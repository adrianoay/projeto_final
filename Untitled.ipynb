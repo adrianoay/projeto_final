{
 "cells": [
  {
   "cell_type": "markdown",
   "metadata": {},
   "source": [
    "# Projeto Prevendo as Melhores Séries da Netflix"
   ]
  },
  {
   "cell_type": "markdown",
   "metadata": {},
   "source": [
    "Esse Projeto foi desenvolvido para prever se futuras séries lançadas na Netflix farão sucesso entre os usuários."
   ]
  },
  {
   "cell_type": "markdown",
   "metadata": {},
   "source": [
    "# Importando as Bibliotecas"
   ]
  },
  {
   "cell_type": "code",
   "execution_count": 13,
   "metadata": {
    "ExecuteTime": {
     "end_time": "2020-12-18T05:57:20.965557Z",
     "start_time": "2020-12-18T05:57:20.943570Z"
    }
   },
   "outputs": [],
   "source": [
    "import numpy as np\n",
    "import pandas as pd\n",
    "import seaborn as sns\n",
    "from jupyterthemes import jtplot\n",
    "import sqlalchemy as db\n",
    "from dotenv import load_dotenv, find_dotenv\n",
    "import requests\n",
    "from selenium import webdriver\n",
    "from sklearn.linear_model import LogisticRegression\n",
    "from sklearn.model_selection import train_test_split\n",
    "from sklearn.preprocessing import StandardScaler\n",
    "from sklearn.metrics import precision_score, recall_score, roc_auc_score, plot_roc_curve\n",
    "from sklearn.metrics import plot_confusion_matrix\n",
    "import matplotlib.pyplot as plt\n",
    "from sklearn.metrics import confusion_matrix\n",
    "from lightgbm import LGBMClassifier, plot_importance\n",
    "from sklearn.model_selection import cross_val_score, KFold\n",
    "from sklearn.model_selection import learning_curve\n",
    "from sklearn.pipeline import Pipeline\n",
    "from sklearn.preprocessing import OrdinalEncoder, OneHotEncoder\n",
    "from sklearn.impute import SimpleImputer, KNNImputer\n",
    "import sklearn"
   ]
  },
  {
   "cell_type": "code",
   "execution_count": 14,
   "metadata": {
    "ExecuteTime": {
     "end_time": "2020-12-18T05:57:26.161196Z",
     "start_time": "2020-12-18T05:57:26.135211Z"
    }
   },
   "outputs": [],
   "source": [
    "jtplot.style(theme='monokai')\n",
    "jtplot.style(context='talk', fscale=1.4, spines=False, gridlines='--')\n",
    "jtplot.style(ticks=True, grid=False, figsize=(10, 10))"
   ]
  },
  {
   "cell_type": "markdown",
   "metadata": {},
   "source": [
    "# Importando o DataFrame"
   ]
  },
  {
   "cell_type": "markdown",
   "metadata": {},
   "source": [
    "##  Importando o DataFrame Netflix"
   ]
  },
  {
   "cell_type": "markdown",
   "metadata": {},
   "source": [
    "DataSet obtido "
   ]
  },
  {
   "cell_type": "code",
   "execution_count": 4,
   "metadata": {
    "ExecuteTime": {
     "end_time": "2020-12-18T05:56:45.436966Z",
     "start_time": "2020-12-18T05:56:45.410983Z"
    }
   },
   "outputs": [],
   "source": [
    "df = pd.read_csv('data/netflix.csv', index_col=0, encoding='latin-1')"
   ]
  },
  {
   "cell_type": "code",
   "execution_count": 5,
   "metadata": {
    "ExecuteTime": {
     "end_time": "2020-12-18T05:56:45.468945Z",
     "start_time": "2020-12-18T05:56:45.439966Z"
    }
   },
   "outputs": [
    {
     "name": "stdout",
     "output_type": "stream",
     "text": [
      "<class 'pandas.core.frame.DataFrame'>\n",
      "Index: 66 entries, Anne with an E to Atlanta\n",
      "Data columns (total 14 columns):\n",
      " #   Column                  Non-Null Count  Dtype  \n",
      "---  ------                  --------------  -----  \n",
      " 0   DATA DE ESTREIA         66 non-null     object \n",
      " 1   ID                      66 non-null     float64\n",
      " 2   PAÃS DE ORIGEM         66 non-null     object \n",
      " 3   LINGUA DE ORIGEM        66 non-null     object \n",
      " 4   NOME ORIGINAL           66 non-null     object \n",
      " 5   RESUMO                  66 non-null     object \n",
      " 6   POPULARIDADE            66 non-null     float64\n",
      " 7   POSTER                  66 non-null     object \n",
      " 8   VOTO MÃDIO             66 non-null     float64\n",
      " 9   CONTAGEM DE VOTOS       66 non-null     float64\n",
      " 10  ANO                     66 non-null     int64  \n",
      " 11  NOTA IMDB               66 non-null     float64\n",
      " 12  CONTAGEM DE VOTOS IMDB  66 non-null     float64\n",
      " 13  NOTA PREVISTA           66 non-null     float64\n",
      "dtypes: float64(7), int64(1), object(6)\n",
      "memory usage: 7.7+ KB\n"
     ]
    }
   ],
   "source": [
    "df.info()"
   ]
  },
  {
   "cell_type": "code",
   "execution_count": 6,
   "metadata": {
    "ExecuteTime": {
     "end_time": "2020-12-18T05:56:45.516916Z",
     "start_time": "2020-12-18T05:56:45.475941Z"
    }
   },
   "outputs": [
    {
     "data": {
      "text/html": [
       "<div>\n",
       "<style scoped>\n",
       "    .dataframe tbody tr th:only-of-type {\n",
       "        vertical-align: middle;\n",
       "    }\n",
       "\n",
       "    .dataframe tbody tr th {\n",
       "        vertical-align: top;\n",
       "    }\n",
       "\n",
       "    .dataframe thead th {\n",
       "        text-align: right;\n",
       "    }\n",
       "</style>\n",
       "<table border=\"1\" class=\"dataframe\">\n",
       "  <thead>\n",
       "    <tr style=\"text-align: right;\">\n",
       "      <th></th>\n",
       "      <th>DATA DE ESTREIA</th>\n",
       "      <th>ID</th>\n",
       "      <th>PAÃS DE ORIGEM</th>\n",
       "      <th>LINGUA DE ORIGEM</th>\n",
       "      <th>NOME ORIGINAL</th>\n",
       "      <th>RESUMO</th>\n",
       "      <th>POPULARIDADE</th>\n",
       "      <th>POSTER</th>\n",
       "      <th>VOTO MÃDIO</th>\n",
       "      <th>CONTAGEM DE VOTOS</th>\n",
       "      <th>ANO</th>\n",
       "      <th>NOTA IMDB</th>\n",
       "      <th>CONTAGEM DE VOTOS IMDB</th>\n",
       "      <th>NOTA PREVISTA</th>\n",
       "    </tr>\n",
       "    <tr>\n",
       "      <th>NOME</th>\n",
       "      <th></th>\n",
       "      <th></th>\n",
       "      <th></th>\n",
       "      <th></th>\n",
       "      <th></th>\n",
       "      <th></th>\n",
       "      <th></th>\n",
       "      <th></th>\n",
       "      <th></th>\n",
       "      <th></th>\n",
       "      <th></th>\n",
       "      <th></th>\n",
       "      <th></th>\n",
       "      <th></th>\n",
       "    </tr>\n",
       "  </thead>\n",
       "  <tbody>\n",
       "    <tr>\n",
       "      <th>Anne with an E</th>\n",
       "      <td>2017-03-19</td>\n",
       "      <td>70785.0</td>\n",
       "      <td>['CA']</td>\n",
       "      <td>en</td>\n",
       "      <td>Anne with an E</td>\n",
       "      <td>O mundo de Green Gables que Anne tanto adora s...</td>\n",
       "      <td>111.048</td>\n",
       "      <td>/xWdSSB1La6FcXZUuuwvcqvB6Kdf.jpg</td>\n",
       "      <td>8.8</td>\n",
       "      <td>2781.0</td>\n",
       "      <td>2017</td>\n",
       "      <td>8.6</td>\n",
       "      <td>34913.0</td>\n",
       "      <td>8.2</td>\n",
       "    </tr>\n",
       "    <tr>\n",
       "      <th>Rick &amp; Morty</th>\n",
       "      <td>2013-12-02</td>\n",
       "      <td>60625.0</td>\n",
       "      <td>['US']</td>\n",
       "      <td>en</td>\n",
       "      <td>Rick and Morty</td>\n",
       "      <td>Rick Ã© um velho mentalmente desequilibrado, m...</td>\n",
       "      <td>227.251</td>\n",
       "      <td>/8kOWDBK6XlPUzckuHDo3wwVRFwt.jpg</td>\n",
       "      <td>8.7</td>\n",
       "      <td>3699.0</td>\n",
       "      <td>2013</td>\n",
       "      <td>9.2</td>\n",
       "      <td>365508.0</td>\n",
       "      <td>8.9</td>\n",
       "    </tr>\n",
       "    <tr>\n",
       "      <th>O Gambito da Rainha</th>\n",
       "      <td>2020-10-23</td>\n",
       "      <td>87739.0</td>\n",
       "      <td>['US']</td>\n",
       "      <td>en</td>\n",
       "      <td>The Queen's Gambit</td>\n",
       "      <td>Durante a Guerra Fria, em um orfanato do Kentu...</td>\n",
       "      <td>449.859</td>\n",
       "      <td>/ubWpLTkwcms5PfZJMFZkNXVYXqJ.jpg</td>\n",
       "      <td>8.7</td>\n",
       "      <td>872.0</td>\n",
       "      <td>2020</td>\n",
       "      <td>8.7</td>\n",
       "      <td>162797.0</td>\n",
       "      <td>8.1</td>\n",
       "    </tr>\n",
       "    <tr>\n",
       "      <th>Breaking Bad: A QuÃ­mica do Mal</th>\n",
       "      <td>2008-01-20</td>\n",
       "      <td>1396.0</td>\n",
       "      <td>['US']</td>\n",
       "      <td>en</td>\n",
       "      <td>Breaking Bad</td>\n",
       "      <td>Ao saber que tem cÃ¢ncer, um professor passa a...</td>\n",
       "      <td>203.975</td>\n",
       "      <td>/30erzlzIOtOK3k3T3BAl1GiVMP1.jpg</td>\n",
       "      <td>8.7</td>\n",
       "      <td>6115.0</td>\n",
       "      <td>2008</td>\n",
       "      <td>9.4</td>\n",
       "      <td>1430288.0</td>\n",
       "      <td>9.0</td>\n",
       "    </tr>\n",
       "    <tr>\n",
       "      <th>Peaky Blinders: Sangue, Apostas e Navalhas</th>\n",
       "      <td>2013-09-12</td>\n",
       "      <td>60574.0</td>\n",
       "      <td>['GB']</td>\n",
       "      <td>en</td>\n",
       "      <td>Peaky Blinders</td>\n",
       "      <td>Thomas Shelby e seus irmÃ£os retornam a Birmin...</td>\n",
       "      <td>118.224</td>\n",
       "      <td>/i0uajcHH9yogXMfDHpOXexIukG9.jpg</td>\n",
       "      <td>8.6</td>\n",
       "      <td>1690.0</td>\n",
       "      <td>2013</td>\n",
       "      <td>8.7</td>\n",
       "      <td>329685.0</td>\n",
       "      <td>8.6</td>\n",
       "    </tr>\n",
       "  </tbody>\n",
       "</table>\n",
       "</div>"
      ],
      "text/plain": [
       "                                           DATA DE ESTREIA       ID  \\\n",
       "NOME                                                                  \n",
       "Anne with an E                                  2017-03-19  70785.0   \n",
       "Rick & Morty                                    2013-12-02  60625.0   \n",
       "O Gambito da Rainha                             2020-10-23  87739.0   \n",
       "Breaking Bad: A QuÃ­mica do Mal                 2008-01-20   1396.0   \n",
       "Peaky Blinders: Sangue, Apostas e Navalhas      2013-09-12  60574.0   \n",
       "\n",
       "                                           PAÃS DE ORIGEM LINGUA DE ORIGEM  \\\n",
       "NOME                                                                          \n",
       "Anne with an E                                      ['CA']               en   \n",
       "Rick & Morty                                        ['US']               en   \n",
       "O Gambito da Rainha                                 ['US']               en   \n",
       "Breaking Bad: A QuÃ­mica do Mal                     ['US']               en   \n",
       "Peaky Blinders: Sangue, Apostas e Navalhas          ['GB']               en   \n",
       "\n",
       "                                                 NOME ORIGINAL  \\\n",
       "NOME                                                             \n",
       "Anne with an E                                  Anne with an E   \n",
       "Rick & Morty                                    Rick and Morty   \n",
       "O Gambito da Rainha                         The Queen's Gambit   \n",
       "Breaking Bad: A QuÃ­mica do Mal                   Breaking Bad   \n",
       "Peaky Blinders: Sangue, Apostas e Navalhas      Peaky Blinders   \n",
       "\n",
       "                                                                                       RESUMO  \\\n",
       "NOME                                                                                            \n",
       "Anne with an E                              O mundo de Green Gables que Anne tanto adora s...   \n",
       "Rick & Morty                                Rick Ã© um velho mentalmente desequilibrado, m...   \n",
       "O Gambito da Rainha                         Durante a Guerra Fria, em um orfanato do Kentu...   \n",
       "Breaking Bad: A QuÃ­mica do Mal             Ao saber que tem cÃ¢ncer, um professor passa a...   \n",
       "Peaky Blinders: Sangue, Apostas e Navalhas  Thomas Shelby e seus irmÃ£os retornam a Birmin...   \n",
       "\n",
       "                                            POPULARIDADE  \\\n",
       "NOME                                                       \n",
       "Anne with an E                                   111.048   \n",
       "Rick & Morty                                     227.251   \n",
       "O Gambito da Rainha                              449.859   \n",
       "Breaking Bad: A QuÃ­mica do Mal                  203.975   \n",
       "Peaky Blinders: Sangue, Apostas e Navalhas       118.224   \n",
       "\n",
       "                                                                      POSTER  \\\n",
       "NOME                                                                           \n",
       "Anne with an E                              /xWdSSB1La6FcXZUuuwvcqvB6Kdf.jpg   \n",
       "Rick & Morty                                /8kOWDBK6XlPUzckuHDo3wwVRFwt.jpg   \n",
       "O Gambito da Rainha                         /ubWpLTkwcms5PfZJMFZkNXVYXqJ.jpg   \n",
       "Breaking Bad: A QuÃ­mica do Mal             /30erzlzIOtOK3k3T3BAl1GiVMP1.jpg   \n",
       "Peaky Blinders: Sangue, Apostas e Navalhas  /i0uajcHH9yogXMfDHpOXexIukG9.jpg   \n",
       "\n",
       "                                            VOTO MÃDIO  CONTAGEM DE VOTOS  \\\n",
       "NOME                                                                         \n",
       "Anne with an E                                      8.8             2781.0   \n",
       "Rick & Morty                                        8.7             3699.0   \n",
       "O Gambito da Rainha                                 8.7              872.0   \n",
       "Breaking Bad: A QuÃ­mica do Mal                     8.7             6115.0   \n",
       "Peaky Blinders: Sangue, Apostas e Navalhas          8.6             1690.0   \n",
       "\n",
       "                                             ANO  NOTA IMDB  \\\n",
       "NOME                                                          \n",
       "Anne with an E                              2017        8.6   \n",
       "Rick & Morty                                2013        9.2   \n",
       "O Gambito da Rainha                         2020        8.7   \n",
       "Breaking Bad: A QuÃ­mica do Mal             2008        9.4   \n",
       "Peaky Blinders: Sangue, Apostas e Navalhas  2013        8.7   \n",
       "\n",
       "                                            CONTAGEM DE VOTOS IMDB  \\\n",
       "NOME                                                                 \n",
       "Anne with an E                                             34913.0   \n",
       "Rick & Morty                                              365508.0   \n",
       "O Gambito da Rainha                                       162797.0   \n",
       "Breaking Bad: A QuÃ­mica do Mal                          1430288.0   \n",
       "Peaky Blinders: Sangue, Apostas e Navalhas                329685.0   \n",
       "\n",
       "                                            NOTA PREVISTA  \n",
       "NOME                                                       \n",
       "Anne with an E                                        8.2  \n",
       "Rick & Morty                                          8.9  \n",
       "O Gambito da Rainha                                   8.1  \n",
       "Breaking Bad: A QuÃ­mica do Mal                       9.0  \n",
       "Peaky Blinders: Sangue, Apostas e Navalhas            8.6  "
      ]
     },
     "execution_count": 6,
     "metadata": {},
     "output_type": "execute_result"
    }
   ],
   "source": [
    "df.head()"
   ]
  },
  {
   "cell_type": "code",
   "execution_count": 7,
   "metadata": {
    "ExecuteTime": {
     "end_time": "2020-12-18T05:56:45.596864Z",
     "start_time": "2020-12-18T05:56:45.519916Z"
    }
   },
   "outputs": [],
   "source": [
    "df_1 = pd.read_csv('data/netflix_titles.csv', index_col=0, encoding='latin-1')"
   ]
  },
  {
   "cell_type": "code",
   "execution_count": 8,
   "metadata": {
    "ExecuteTime": {
     "end_time": "2020-12-18T05:56:45.659822Z",
     "start_time": "2020-12-18T05:56:45.603860Z"
    }
   },
   "outputs": [
    {
     "data": {
      "text/html": [
       "<div>\n",
       "<style scoped>\n",
       "    .dataframe tbody tr th:only-of-type {\n",
       "        vertical-align: middle;\n",
       "    }\n",
       "\n",
       "    .dataframe tbody tr th {\n",
       "        vertical-align: top;\n",
       "    }\n",
       "\n",
       "    .dataframe thead th {\n",
       "        text-align: right;\n",
       "    }\n",
       "</style>\n",
       "<table border=\"1\" class=\"dataframe\">\n",
       "  <thead>\n",
       "    <tr style=\"text-align: right;\">\n",
       "      <th></th>\n",
       "      <th>type</th>\n",
       "      <th>title</th>\n",
       "      <th>director</th>\n",
       "      <th>cast</th>\n",
       "      <th>country</th>\n",
       "      <th>date_added</th>\n",
       "      <th>release_year</th>\n",
       "      <th>rating</th>\n",
       "      <th>duration</th>\n",
       "      <th>listed_in</th>\n",
       "      <th>description</th>\n",
       "    </tr>\n",
       "    <tr>\n",
       "      <th>show_id</th>\n",
       "      <th></th>\n",
       "      <th></th>\n",
       "      <th></th>\n",
       "      <th></th>\n",
       "      <th></th>\n",
       "      <th></th>\n",
       "      <th></th>\n",
       "      <th></th>\n",
       "      <th></th>\n",
       "      <th></th>\n",
       "      <th></th>\n",
       "    </tr>\n",
       "  </thead>\n",
       "  <tbody>\n",
       "    <tr>\n",
       "      <th>81145628</th>\n",
       "      <td>Movie</td>\n",
       "      <td>Norm of the North: King Sized Adventure</td>\n",
       "      <td>Richard Finn, Tim Maltby</td>\n",
       "      <td>Alan Marriott, Andrew Toth, Brian Dobson, Cole...</td>\n",
       "      <td>United States, India, South Korea, China</td>\n",
       "      <td>September 9, 2019</td>\n",
       "      <td>2019</td>\n",
       "      <td>TV-PG</td>\n",
       "      <td>90 min</td>\n",
       "      <td>Children &amp; Family Movies, Comedies</td>\n",
       "      <td>Before planning an awesome wedding for his gra...</td>\n",
       "    </tr>\n",
       "    <tr>\n",
       "      <th>80117401</th>\n",
       "      <td>Movie</td>\n",
       "      <td>Jandino: Whatever it Takes</td>\n",
       "      <td>NaN</td>\n",
       "      <td>Jandino Asporaat</td>\n",
       "      <td>United Kingdom</td>\n",
       "      <td>September 9, 2016</td>\n",
       "      <td>2016</td>\n",
       "      <td>TV-MA</td>\n",
       "      <td>94 min</td>\n",
       "      <td>Stand-Up Comedy</td>\n",
       "      <td>Jandino Asporaat riffs on the challenges of ra...</td>\n",
       "    </tr>\n",
       "    <tr>\n",
       "      <th>70234439</th>\n",
       "      <td>TV Show</td>\n",
       "      <td>Transformers Prime</td>\n",
       "      <td>NaN</td>\n",
       "      <td>Peter Cullen, Sumalee Montano, Frank Welker, J...</td>\n",
       "      <td>United States</td>\n",
       "      <td>September 8, 2018</td>\n",
       "      <td>2013</td>\n",
       "      <td>TV-Y7-FV</td>\n",
       "      <td>1 Season</td>\n",
       "      <td>Kids' TV</td>\n",
       "      <td>With the help of three human allies, the Autob...</td>\n",
       "    </tr>\n",
       "    <tr>\n",
       "      <th>80058654</th>\n",
       "      <td>TV Show</td>\n",
       "      <td>Transformers: Robots in Disguise</td>\n",
       "      <td>NaN</td>\n",
       "      <td>Will Friedle, Darren Criss, Constance Zimmer, ...</td>\n",
       "      <td>United States</td>\n",
       "      <td>September 8, 2018</td>\n",
       "      <td>2016</td>\n",
       "      <td>TV-Y7</td>\n",
       "      <td>1 Season</td>\n",
       "      <td>Kids' TV</td>\n",
       "      <td>When a prison ship crash unleashes hundreds of...</td>\n",
       "    </tr>\n",
       "    <tr>\n",
       "      <th>80125979</th>\n",
       "      <td>Movie</td>\n",
       "      <td>#realityhigh</td>\n",
       "      <td>Fernando Lebrija</td>\n",
       "      <td>Nesta Cooper, Kate Walsh, John Michael Higgins...</td>\n",
       "      <td>United States</td>\n",
       "      <td>September 8, 2017</td>\n",
       "      <td>2017</td>\n",
       "      <td>TV-14</td>\n",
       "      <td>99 min</td>\n",
       "      <td>Comedies</td>\n",
       "      <td>When nerdy high schooler Dani finally attracts...</td>\n",
       "    </tr>\n",
       "    <tr>\n",
       "      <th>...</th>\n",
       "      <td>...</td>\n",
       "      <td>...</td>\n",
       "      <td>...</td>\n",
       "      <td>...</td>\n",
       "      <td>...</td>\n",
       "      <td>...</td>\n",
       "      <td>...</td>\n",
       "      <td>...</td>\n",
       "      <td>...</td>\n",
       "      <td>...</td>\n",
       "      <td>...</td>\n",
       "    </tr>\n",
       "    <tr>\n",
       "      <th>80000063</th>\n",
       "      <td>TV Show</td>\n",
       "      <td>Red vs. Blue</td>\n",
       "      <td>NaN</td>\n",
       "      <td>Burnie Burns, Jason SaldaÃ±a, Gustavo Sorola, ...</td>\n",
       "      <td>United States</td>\n",
       "      <td>NaN</td>\n",
       "      <td>2015</td>\n",
       "      <td>NR</td>\n",
       "      <td>13 Seasons</td>\n",
       "      <td>TV Action &amp; Adventure, TV Comedies, TV Sci-Fi ...</td>\n",
       "      <td>This parody of first-person shooter games, mil...</td>\n",
       "    </tr>\n",
       "    <tr>\n",
       "      <th>70286564</th>\n",
       "      <td>TV Show</td>\n",
       "      <td>Maron</td>\n",
       "      <td>NaN</td>\n",
       "      <td>Marc Maron, Judd Hirsch, Josh Brener, Nora Zeh...</td>\n",
       "      <td>United States</td>\n",
       "      <td>NaN</td>\n",
       "      <td>2016</td>\n",
       "      <td>TV-MA</td>\n",
       "      <td>4 Seasons</td>\n",
       "      <td>TV Comedies</td>\n",
       "      <td>Marc Maron stars as Marc Maron, who interviews...</td>\n",
       "    </tr>\n",
       "    <tr>\n",
       "      <th>80116008</th>\n",
       "      <td>Movie</td>\n",
       "      <td>Little Baby Bum: Nursery Rhyme Friends</td>\n",
       "      <td>NaN</td>\n",
       "      <td>NaN</td>\n",
       "      <td>NaN</td>\n",
       "      <td>NaN</td>\n",
       "      <td>2016</td>\n",
       "      <td>NaN</td>\n",
       "      <td>60 min</td>\n",
       "      <td>Movies</td>\n",
       "      <td>Nursery rhymes and original music for children...</td>\n",
       "    </tr>\n",
       "    <tr>\n",
       "      <th>70281022</th>\n",
       "      <td>TV Show</td>\n",
       "      <td>A Young Doctor's Notebook and Other Stories</td>\n",
       "      <td>NaN</td>\n",
       "      <td>Daniel Radcliffe, Jon Hamm, Adam Godley, Chris...</td>\n",
       "      <td>United Kingdom</td>\n",
       "      <td>NaN</td>\n",
       "      <td>2013</td>\n",
       "      <td>TV-MA</td>\n",
       "      <td>2 Seasons</td>\n",
       "      <td>British TV Shows, TV Comedies, TV Dramas</td>\n",
       "      <td>Set during the Russian Revolution, this comic ...</td>\n",
       "    </tr>\n",
       "    <tr>\n",
       "      <th>70153404</th>\n",
       "      <td>TV Show</td>\n",
       "      <td>Friends</td>\n",
       "      <td>NaN</td>\n",
       "      <td>Jennifer Aniston, Courteney Cox, Lisa Kudrow, ...</td>\n",
       "      <td>United States</td>\n",
       "      <td>NaN</td>\n",
       "      <td>2003</td>\n",
       "      <td>TV-14</td>\n",
       "      <td>10 Seasons</td>\n",
       "      <td>Classic &amp; Cult TV, TV Comedies</td>\n",
       "      <td>This hit sitcom follows the merry misadventure...</td>\n",
       "    </tr>\n",
       "  </tbody>\n",
       "</table>\n",
       "<p>6234 rows × 11 columns</p>\n",
       "</div>"
      ],
      "text/plain": [
       "             type                                        title  \\\n",
       "show_id                                                          \n",
       "81145628    Movie      Norm of the North: King Sized Adventure   \n",
       "80117401    Movie                   Jandino: Whatever it Takes   \n",
       "70234439  TV Show                           Transformers Prime   \n",
       "80058654  TV Show             Transformers: Robots in Disguise   \n",
       "80125979    Movie                                 #realityhigh   \n",
       "...           ...                                          ...   \n",
       "80000063  TV Show                                 Red vs. Blue   \n",
       "70286564  TV Show                                        Maron   \n",
       "80116008    Movie       Little Baby Bum: Nursery Rhyme Friends   \n",
       "70281022  TV Show  A Young Doctor's Notebook and Other Stories   \n",
       "70153404  TV Show                                      Friends   \n",
       "\n",
       "                          director  \\\n",
       "show_id                              \n",
       "81145628  Richard Finn, Tim Maltby   \n",
       "80117401                       NaN   \n",
       "70234439                       NaN   \n",
       "80058654                       NaN   \n",
       "80125979          Fernando Lebrija   \n",
       "...                            ...   \n",
       "80000063                       NaN   \n",
       "70286564                       NaN   \n",
       "80116008                       NaN   \n",
       "70281022                       NaN   \n",
       "70153404                       NaN   \n",
       "\n",
       "                                                       cast  \\\n",
       "show_id                                                       \n",
       "81145628  Alan Marriott, Andrew Toth, Brian Dobson, Cole...   \n",
       "80117401                                   Jandino Asporaat   \n",
       "70234439  Peter Cullen, Sumalee Montano, Frank Welker, J...   \n",
       "80058654  Will Friedle, Darren Criss, Constance Zimmer, ...   \n",
       "80125979  Nesta Cooper, Kate Walsh, John Michael Higgins...   \n",
       "...                                                     ...   \n",
       "80000063  Burnie Burns, Jason SaldaÃ±a, Gustavo Sorola, ...   \n",
       "70286564  Marc Maron, Judd Hirsch, Josh Brener, Nora Zeh...   \n",
       "80116008                                                NaN   \n",
       "70281022  Daniel Radcliffe, Jon Hamm, Adam Godley, Chris...   \n",
       "70153404  Jennifer Aniston, Courteney Cox, Lisa Kudrow, ...   \n",
       "\n",
       "                                           country         date_added  \\\n",
       "show_id                                                                 \n",
       "81145628  United States, India, South Korea, China  September 9, 2019   \n",
       "80117401                            United Kingdom  September 9, 2016   \n",
       "70234439                             United States  September 8, 2018   \n",
       "80058654                             United States  September 8, 2018   \n",
       "80125979                             United States  September 8, 2017   \n",
       "...                                            ...                ...   \n",
       "80000063                             United States                NaN   \n",
       "70286564                             United States                NaN   \n",
       "80116008                                       NaN                NaN   \n",
       "70281022                            United Kingdom                NaN   \n",
       "70153404                             United States                NaN   \n",
       "\n",
       "          release_year    rating    duration  \\\n",
       "show_id                                        \n",
       "81145628          2019     TV-PG      90 min   \n",
       "80117401          2016     TV-MA      94 min   \n",
       "70234439          2013  TV-Y7-FV    1 Season   \n",
       "80058654          2016     TV-Y7    1 Season   \n",
       "80125979          2017     TV-14      99 min   \n",
       "...                ...       ...         ...   \n",
       "80000063          2015        NR  13 Seasons   \n",
       "70286564          2016     TV-MA   4 Seasons   \n",
       "80116008          2016       NaN      60 min   \n",
       "70281022          2013     TV-MA   2 Seasons   \n",
       "70153404          2003     TV-14  10 Seasons   \n",
       "\n",
       "                                                  listed_in  \\\n",
       "show_id                                                       \n",
       "81145628                 Children & Family Movies, Comedies   \n",
       "80117401                                    Stand-Up Comedy   \n",
       "70234439                                           Kids' TV   \n",
       "80058654                                           Kids' TV   \n",
       "80125979                                           Comedies   \n",
       "...                                                     ...   \n",
       "80000063  TV Action & Adventure, TV Comedies, TV Sci-Fi ...   \n",
       "70286564                                        TV Comedies   \n",
       "80116008                                             Movies   \n",
       "70281022           British TV Shows, TV Comedies, TV Dramas   \n",
       "70153404                     Classic & Cult TV, TV Comedies   \n",
       "\n",
       "                                                description  \n",
       "show_id                                                      \n",
       "81145628  Before planning an awesome wedding for his gra...  \n",
       "80117401  Jandino Asporaat riffs on the challenges of ra...  \n",
       "70234439  With the help of three human allies, the Autob...  \n",
       "80058654  When a prison ship crash unleashes hundreds of...  \n",
       "80125979  When nerdy high schooler Dani finally attracts...  \n",
       "...                                                     ...  \n",
       "80000063  This parody of first-person shooter games, mil...  \n",
       "70286564  Marc Maron stars as Marc Maron, who interviews...  \n",
       "80116008  Nursery rhymes and original music for children...  \n",
       "70281022  Set during the Russian Revolution, this comic ...  \n",
       "70153404  This hit sitcom follows the merry misadventure...  \n",
       "\n",
       "[6234 rows x 11 columns]"
      ]
     },
     "execution_count": 8,
     "metadata": {},
     "output_type": "execute_result"
    }
   ],
   "source": [
    "df_1"
   ]
  },
  {
   "cell_type": "code",
   "execution_count": 9,
   "metadata": {
    "ExecuteTime": {
     "end_time": "2020-12-18T05:56:45.675813Z",
     "start_time": "2020-12-18T05:56:45.664820Z"
    }
   },
   "outputs": [],
   "source": [
    "class tmdb():\n",
    "    \n",
    "    def __init__(self):\n",
    "        print('Criação para buscar lista dos filmes mais bem avaliados')\n",
    "    \n",
    "    def imdb(self):\n",
    "        '''Criando a conexão através de API do site da Imdb, criando a tabela e editando'''\n",
    "        \n",
    "        response = requests.get(f'https://api.themoviedb.org/3/tv/top_rated?api_key=<<ab024c8114780f239a8861b4423e138d>>&language=en-US&page=1')\n",
    "        response.json()\n",
    "        response.json().keys()\n",
    "        results = response.json()\n",
    "        df = pd.json_normalize(response.json(),'items')\n",
    "\n",
    "        return df"
   ]
  },
  {
   "cell_type": "code",
   "execution_count": 10,
   "metadata": {
    "ExecuteTime": {
     "end_time": "2020-12-18T05:56:45.691802Z",
     "start_time": "2020-12-18T05:56:45.678811Z"
    }
   },
   "outputs": [],
   "source": [
    "df = pd.DataFrame()"
   ]
  },
  {
   "cell_type": "code",
   "execution_count": 11,
   "metadata": {
    "ExecuteTime": {
     "end_time": "2020-12-18T05:56:48.575322Z",
     "start_time": "2020-12-18T05:56:45.695800Z"
    }
   },
   "outputs": [
    {
     "ename": "KeyboardInterrupt",
     "evalue": "",
     "output_type": "error",
     "traceback": [
      "\u001b[1;31m---------------------------------------------------------------------------\u001b[0m",
      "\u001b[1;31mKeyboardInterrupt\u001b[0m                         Traceback (most recent call last)",
      "\u001b[1;32m<ipython-input-11-3e1b18ed71b8>\u001b[0m in \u001b[0;36m<module>\u001b[1;34m\u001b[0m\n\u001b[0;32m      1\u001b[0m \u001b[0mresponse\u001b[0m \u001b[1;33m=\u001b[0m \u001b[1;33m[\u001b[0m\u001b[1;33m]\u001b[0m\u001b[1;33m\u001b[0m\u001b[1;33m\u001b[0m\u001b[0m\n\u001b[0;32m      2\u001b[0m \u001b[1;32mfor\u001b[0m \u001b[0madd\u001b[0m \u001b[1;32min\u001b[0m \u001b[0mrange\u001b[0m\u001b[1;33m(\u001b[0m\u001b[1;36m1\u001b[0m\u001b[1;33m,\u001b[0m\u001b[1;36m51\u001b[0m\u001b[1;33m)\u001b[0m\u001b[1;33m:\u001b[0m\u001b[1;33m\u001b[0m\u001b[1;33m\u001b[0m\u001b[0m\n\u001b[1;32m----> 3\u001b[1;33m     \u001b[0mresponse\u001b[0m\u001b[1;33m.\u001b[0m\u001b[0mappend\u001b[0m\u001b[1;33m(\u001b[0m\u001b[0mrequests\u001b[0m\u001b[1;33m.\u001b[0m\u001b[0mget\u001b[0m\u001b[1;33m(\u001b[0m\u001b[1;34mf'https://api.themoviedb.org/3/tv/top_rated?api_key=ab024c8114780f239a8861b4423e138d&language=pt-BR&page={add}'\u001b[0m\u001b[1;33m)\u001b[0m\u001b[1;33m)\u001b[0m\u001b[1;33m\u001b[0m\u001b[1;33m\u001b[0m\u001b[0m\n\u001b[0m\u001b[0;32m      4\u001b[0m \u001b[1;33m\u001b[0m\u001b[0m\n\u001b[0;32m      5\u001b[0m \u001b[1;32mfor\u001b[0m \u001b[0mi\u001b[0m \u001b[1;32min\u001b[0m \u001b[0mresponse\u001b[0m\u001b[1;33m:\u001b[0m\u001b[1;33m\u001b[0m\u001b[1;33m\u001b[0m\u001b[0m\n",
      "\u001b[1;32mC:\\ProgramData\\Anaconda3\\lib\\site-packages\\requests\\api.py\u001b[0m in \u001b[0;36mget\u001b[1;34m(url, params, **kwargs)\u001b[0m\n\u001b[0;32m     74\u001b[0m \u001b[1;33m\u001b[0m\u001b[0m\n\u001b[0;32m     75\u001b[0m     \u001b[0mkwargs\u001b[0m\u001b[1;33m.\u001b[0m\u001b[0msetdefault\u001b[0m\u001b[1;33m(\u001b[0m\u001b[1;34m'allow_redirects'\u001b[0m\u001b[1;33m,\u001b[0m \u001b[1;32mTrue\u001b[0m\u001b[1;33m)\u001b[0m\u001b[1;33m\u001b[0m\u001b[1;33m\u001b[0m\u001b[0m\n\u001b[1;32m---> 76\u001b[1;33m     \u001b[1;32mreturn\u001b[0m \u001b[0mrequest\u001b[0m\u001b[1;33m(\u001b[0m\u001b[1;34m'get'\u001b[0m\u001b[1;33m,\u001b[0m \u001b[0murl\u001b[0m\u001b[1;33m,\u001b[0m \u001b[0mparams\u001b[0m\u001b[1;33m=\u001b[0m\u001b[0mparams\u001b[0m\u001b[1;33m,\u001b[0m \u001b[1;33m**\u001b[0m\u001b[0mkwargs\u001b[0m\u001b[1;33m)\u001b[0m\u001b[1;33m\u001b[0m\u001b[1;33m\u001b[0m\u001b[0m\n\u001b[0m\u001b[0;32m     77\u001b[0m \u001b[1;33m\u001b[0m\u001b[0m\n\u001b[0;32m     78\u001b[0m \u001b[1;33m\u001b[0m\u001b[0m\n",
      "\u001b[1;32mC:\\ProgramData\\Anaconda3\\lib\\site-packages\\requests\\api.py\u001b[0m in \u001b[0;36mrequest\u001b[1;34m(method, url, **kwargs)\u001b[0m\n\u001b[0;32m     59\u001b[0m     \u001b[1;31m# cases, and look like a memory leak in others.\u001b[0m\u001b[1;33m\u001b[0m\u001b[1;33m\u001b[0m\u001b[1;33m\u001b[0m\u001b[0m\n\u001b[0;32m     60\u001b[0m     \u001b[1;32mwith\u001b[0m \u001b[0msessions\u001b[0m\u001b[1;33m.\u001b[0m\u001b[0mSession\u001b[0m\u001b[1;33m(\u001b[0m\u001b[1;33m)\u001b[0m \u001b[1;32mas\u001b[0m \u001b[0msession\u001b[0m\u001b[1;33m:\u001b[0m\u001b[1;33m\u001b[0m\u001b[1;33m\u001b[0m\u001b[0m\n\u001b[1;32m---> 61\u001b[1;33m         \u001b[1;32mreturn\u001b[0m \u001b[0msession\u001b[0m\u001b[1;33m.\u001b[0m\u001b[0mrequest\u001b[0m\u001b[1;33m(\u001b[0m\u001b[0mmethod\u001b[0m\u001b[1;33m=\u001b[0m\u001b[0mmethod\u001b[0m\u001b[1;33m,\u001b[0m \u001b[0murl\u001b[0m\u001b[1;33m=\u001b[0m\u001b[0murl\u001b[0m\u001b[1;33m,\u001b[0m \u001b[1;33m**\u001b[0m\u001b[0mkwargs\u001b[0m\u001b[1;33m)\u001b[0m\u001b[1;33m\u001b[0m\u001b[1;33m\u001b[0m\u001b[0m\n\u001b[0m\u001b[0;32m     62\u001b[0m \u001b[1;33m\u001b[0m\u001b[0m\n\u001b[0;32m     63\u001b[0m \u001b[1;33m\u001b[0m\u001b[0m\n",
      "\u001b[1;32mC:\\ProgramData\\Anaconda3\\lib\\site-packages\\requests\\sessions.py\u001b[0m in \u001b[0;36mrequest\u001b[1;34m(self, method, url, params, data, headers, cookies, files, auth, timeout, allow_redirects, proxies, hooks, stream, verify, cert, json)\u001b[0m\n\u001b[0;32m    528\u001b[0m         }\n\u001b[0;32m    529\u001b[0m         \u001b[0msend_kwargs\u001b[0m\u001b[1;33m.\u001b[0m\u001b[0mupdate\u001b[0m\u001b[1;33m(\u001b[0m\u001b[0msettings\u001b[0m\u001b[1;33m)\u001b[0m\u001b[1;33m\u001b[0m\u001b[1;33m\u001b[0m\u001b[0m\n\u001b[1;32m--> 530\u001b[1;33m         \u001b[0mresp\u001b[0m \u001b[1;33m=\u001b[0m \u001b[0mself\u001b[0m\u001b[1;33m.\u001b[0m\u001b[0msend\u001b[0m\u001b[1;33m(\u001b[0m\u001b[0mprep\u001b[0m\u001b[1;33m,\u001b[0m \u001b[1;33m**\u001b[0m\u001b[0msend_kwargs\u001b[0m\u001b[1;33m)\u001b[0m\u001b[1;33m\u001b[0m\u001b[1;33m\u001b[0m\u001b[0m\n\u001b[0m\u001b[0;32m    531\u001b[0m \u001b[1;33m\u001b[0m\u001b[0m\n\u001b[0;32m    532\u001b[0m         \u001b[1;32mreturn\u001b[0m \u001b[0mresp\u001b[0m\u001b[1;33m\u001b[0m\u001b[1;33m\u001b[0m\u001b[0m\n",
      "\u001b[1;32mC:\\ProgramData\\Anaconda3\\lib\\site-packages\\requests\\sessions.py\u001b[0m in \u001b[0;36msend\u001b[1;34m(self, request, **kwargs)\u001b[0m\n\u001b[0;32m    641\u001b[0m \u001b[1;33m\u001b[0m\u001b[0m\n\u001b[0;32m    642\u001b[0m         \u001b[1;31m# Send the request\u001b[0m\u001b[1;33m\u001b[0m\u001b[1;33m\u001b[0m\u001b[1;33m\u001b[0m\u001b[0m\n\u001b[1;32m--> 643\u001b[1;33m         \u001b[0mr\u001b[0m \u001b[1;33m=\u001b[0m \u001b[0madapter\u001b[0m\u001b[1;33m.\u001b[0m\u001b[0msend\u001b[0m\u001b[1;33m(\u001b[0m\u001b[0mrequest\u001b[0m\u001b[1;33m,\u001b[0m \u001b[1;33m**\u001b[0m\u001b[0mkwargs\u001b[0m\u001b[1;33m)\u001b[0m\u001b[1;33m\u001b[0m\u001b[1;33m\u001b[0m\u001b[0m\n\u001b[0m\u001b[0;32m    644\u001b[0m \u001b[1;33m\u001b[0m\u001b[0m\n\u001b[0;32m    645\u001b[0m         \u001b[1;31m# Total elapsed time of the request (approximately)\u001b[0m\u001b[1;33m\u001b[0m\u001b[1;33m\u001b[0m\u001b[1;33m\u001b[0m\u001b[0m\n",
      "\u001b[1;32mC:\\ProgramData\\Anaconda3\\lib\\site-packages\\requests\\adapters.py\u001b[0m in \u001b[0;36msend\u001b[1;34m(self, request, stream, timeout, verify, cert, proxies)\u001b[0m\n\u001b[0;32m    437\u001b[0m         \u001b[1;32mtry\u001b[0m\u001b[1;33m:\u001b[0m\u001b[1;33m\u001b[0m\u001b[1;33m\u001b[0m\u001b[0m\n\u001b[0;32m    438\u001b[0m             \u001b[1;32mif\u001b[0m \u001b[1;32mnot\u001b[0m \u001b[0mchunked\u001b[0m\u001b[1;33m:\u001b[0m\u001b[1;33m\u001b[0m\u001b[1;33m\u001b[0m\u001b[0m\n\u001b[1;32m--> 439\u001b[1;33m                 resp = conn.urlopen(\n\u001b[0m\u001b[0;32m    440\u001b[0m                     \u001b[0mmethod\u001b[0m\u001b[1;33m=\u001b[0m\u001b[0mrequest\u001b[0m\u001b[1;33m.\u001b[0m\u001b[0mmethod\u001b[0m\u001b[1;33m,\u001b[0m\u001b[1;33m\u001b[0m\u001b[1;33m\u001b[0m\u001b[0m\n\u001b[0;32m    441\u001b[0m                     \u001b[0murl\u001b[0m\u001b[1;33m=\u001b[0m\u001b[0murl\u001b[0m\u001b[1;33m,\u001b[0m\u001b[1;33m\u001b[0m\u001b[1;33m\u001b[0m\u001b[0m\n",
      "\u001b[1;32mC:\\ProgramData\\Anaconda3\\lib\\site-packages\\urllib3\\connectionpool.py\u001b[0m in \u001b[0;36murlopen\u001b[1;34m(self, method, url, body, headers, retries, redirect, assert_same_host, timeout, pool_timeout, release_conn, chunked, body_pos, **response_kw)\u001b[0m\n\u001b[0;32m    668\u001b[0m \u001b[1;33m\u001b[0m\u001b[0m\n\u001b[0;32m    669\u001b[0m             \u001b[1;31m# Make the request on the httplib connection object.\u001b[0m\u001b[1;33m\u001b[0m\u001b[1;33m\u001b[0m\u001b[1;33m\u001b[0m\u001b[0m\n\u001b[1;32m--> 670\u001b[1;33m             httplib_response = self._make_request(\n\u001b[0m\u001b[0;32m    671\u001b[0m                 \u001b[0mconn\u001b[0m\u001b[1;33m,\u001b[0m\u001b[1;33m\u001b[0m\u001b[1;33m\u001b[0m\u001b[0m\n\u001b[0;32m    672\u001b[0m                 \u001b[0mmethod\u001b[0m\u001b[1;33m,\u001b[0m\u001b[1;33m\u001b[0m\u001b[1;33m\u001b[0m\u001b[0m\n",
      "\u001b[1;32mC:\\ProgramData\\Anaconda3\\lib\\site-packages\\urllib3\\connectionpool.py\u001b[0m in \u001b[0;36m_make_request\u001b[1;34m(self, conn, method, url, timeout, chunked, **httplib_request_kw)\u001b[0m\n\u001b[0;32m    424\u001b[0m                     \u001b[1;31m# Python 3 (including for exceptions like SystemExit).\u001b[0m\u001b[1;33m\u001b[0m\u001b[1;33m\u001b[0m\u001b[1;33m\u001b[0m\u001b[0m\n\u001b[0;32m    425\u001b[0m                     \u001b[1;31m# Otherwise it looks like a bug in the code.\u001b[0m\u001b[1;33m\u001b[0m\u001b[1;33m\u001b[0m\u001b[1;33m\u001b[0m\u001b[0m\n\u001b[1;32m--> 426\u001b[1;33m                     \u001b[0msix\u001b[0m\u001b[1;33m.\u001b[0m\u001b[0mraise_from\u001b[0m\u001b[1;33m(\u001b[0m\u001b[0me\u001b[0m\u001b[1;33m,\u001b[0m \u001b[1;32mNone\u001b[0m\u001b[1;33m)\u001b[0m\u001b[1;33m\u001b[0m\u001b[1;33m\u001b[0m\u001b[0m\n\u001b[0m\u001b[0;32m    427\u001b[0m         \u001b[1;32mexcept\u001b[0m \u001b[1;33m(\u001b[0m\u001b[0mSocketTimeout\u001b[0m\u001b[1;33m,\u001b[0m \u001b[0mBaseSSLError\u001b[0m\u001b[1;33m,\u001b[0m \u001b[0mSocketError\u001b[0m\u001b[1;33m)\u001b[0m \u001b[1;32mas\u001b[0m \u001b[0me\u001b[0m\u001b[1;33m:\u001b[0m\u001b[1;33m\u001b[0m\u001b[1;33m\u001b[0m\u001b[0m\n\u001b[0;32m    428\u001b[0m             \u001b[0mself\u001b[0m\u001b[1;33m.\u001b[0m\u001b[0m_raise_timeout\u001b[0m\u001b[1;33m(\u001b[0m\u001b[0merr\u001b[0m\u001b[1;33m=\u001b[0m\u001b[0me\u001b[0m\u001b[1;33m,\u001b[0m \u001b[0murl\u001b[0m\u001b[1;33m=\u001b[0m\u001b[0murl\u001b[0m\u001b[1;33m,\u001b[0m \u001b[0mtimeout_value\u001b[0m\u001b[1;33m=\u001b[0m\u001b[0mread_timeout\u001b[0m\u001b[1;33m)\u001b[0m\u001b[1;33m\u001b[0m\u001b[1;33m\u001b[0m\u001b[0m\n",
      "\u001b[1;32mC:\\ProgramData\\Anaconda3\\lib\\site-packages\\urllib3\\packages\\six.py\u001b[0m in \u001b[0;36mraise_from\u001b[1;34m(value, from_value)\u001b[0m\n",
      "\u001b[1;32mC:\\ProgramData\\Anaconda3\\lib\\site-packages\\urllib3\\connectionpool.py\u001b[0m in \u001b[0;36m_make_request\u001b[1;34m(self, conn, method, url, timeout, chunked, **httplib_request_kw)\u001b[0m\n\u001b[0;32m    419\u001b[0m                 \u001b[1;31m# Python 3\u001b[0m\u001b[1;33m\u001b[0m\u001b[1;33m\u001b[0m\u001b[1;33m\u001b[0m\u001b[0m\n\u001b[0;32m    420\u001b[0m                 \u001b[1;32mtry\u001b[0m\u001b[1;33m:\u001b[0m\u001b[1;33m\u001b[0m\u001b[1;33m\u001b[0m\u001b[0m\n\u001b[1;32m--> 421\u001b[1;33m                     \u001b[0mhttplib_response\u001b[0m \u001b[1;33m=\u001b[0m \u001b[0mconn\u001b[0m\u001b[1;33m.\u001b[0m\u001b[0mgetresponse\u001b[0m\u001b[1;33m(\u001b[0m\u001b[1;33m)\u001b[0m\u001b[1;33m\u001b[0m\u001b[1;33m\u001b[0m\u001b[0m\n\u001b[0m\u001b[0;32m    422\u001b[0m                 \u001b[1;32mexcept\u001b[0m \u001b[0mBaseException\u001b[0m \u001b[1;32mas\u001b[0m \u001b[0me\u001b[0m\u001b[1;33m:\u001b[0m\u001b[1;33m\u001b[0m\u001b[1;33m\u001b[0m\u001b[0m\n\u001b[0;32m    423\u001b[0m                     \u001b[1;31m# Remove the TypeError from the exception chain in\u001b[0m\u001b[1;33m\u001b[0m\u001b[1;33m\u001b[0m\u001b[1;33m\u001b[0m\u001b[0m\n",
      "\u001b[1;32mC:\\ProgramData\\Anaconda3\\lib\\http\\client.py\u001b[0m in \u001b[0;36mgetresponse\u001b[1;34m(self)\u001b[0m\n\u001b[0;32m   1345\u001b[0m         \u001b[1;32mtry\u001b[0m\u001b[1;33m:\u001b[0m\u001b[1;33m\u001b[0m\u001b[1;33m\u001b[0m\u001b[0m\n\u001b[0;32m   1346\u001b[0m             \u001b[1;32mtry\u001b[0m\u001b[1;33m:\u001b[0m\u001b[1;33m\u001b[0m\u001b[1;33m\u001b[0m\u001b[0m\n\u001b[1;32m-> 1347\u001b[1;33m                 \u001b[0mresponse\u001b[0m\u001b[1;33m.\u001b[0m\u001b[0mbegin\u001b[0m\u001b[1;33m(\u001b[0m\u001b[1;33m)\u001b[0m\u001b[1;33m\u001b[0m\u001b[1;33m\u001b[0m\u001b[0m\n\u001b[0m\u001b[0;32m   1348\u001b[0m             \u001b[1;32mexcept\u001b[0m \u001b[0mConnectionError\u001b[0m\u001b[1;33m:\u001b[0m\u001b[1;33m\u001b[0m\u001b[1;33m\u001b[0m\u001b[0m\n\u001b[0;32m   1349\u001b[0m                 \u001b[0mself\u001b[0m\u001b[1;33m.\u001b[0m\u001b[0mclose\u001b[0m\u001b[1;33m(\u001b[0m\u001b[1;33m)\u001b[0m\u001b[1;33m\u001b[0m\u001b[1;33m\u001b[0m\u001b[0m\n",
      "\u001b[1;32mC:\\ProgramData\\Anaconda3\\lib\\http\\client.py\u001b[0m in \u001b[0;36mbegin\u001b[1;34m(self)\u001b[0m\n\u001b[0;32m    305\u001b[0m         \u001b[1;31m# read until we get a non-100 response\u001b[0m\u001b[1;33m\u001b[0m\u001b[1;33m\u001b[0m\u001b[1;33m\u001b[0m\u001b[0m\n\u001b[0;32m    306\u001b[0m         \u001b[1;32mwhile\u001b[0m \u001b[1;32mTrue\u001b[0m\u001b[1;33m:\u001b[0m\u001b[1;33m\u001b[0m\u001b[1;33m\u001b[0m\u001b[0m\n\u001b[1;32m--> 307\u001b[1;33m             \u001b[0mversion\u001b[0m\u001b[1;33m,\u001b[0m \u001b[0mstatus\u001b[0m\u001b[1;33m,\u001b[0m \u001b[0mreason\u001b[0m \u001b[1;33m=\u001b[0m \u001b[0mself\u001b[0m\u001b[1;33m.\u001b[0m\u001b[0m_read_status\u001b[0m\u001b[1;33m(\u001b[0m\u001b[1;33m)\u001b[0m\u001b[1;33m\u001b[0m\u001b[1;33m\u001b[0m\u001b[0m\n\u001b[0m\u001b[0;32m    308\u001b[0m             \u001b[1;32mif\u001b[0m \u001b[0mstatus\u001b[0m \u001b[1;33m!=\u001b[0m \u001b[0mCONTINUE\u001b[0m\u001b[1;33m:\u001b[0m\u001b[1;33m\u001b[0m\u001b[1;33m\u001b[0m\u001b[0m\n\u001b[0;32m    309\u001b[0m                 \u001b[1;32mbreak\u001b[0m\u001b[1;33m\u001b[0m\u001b[1;33m\u001b[0m\u001b[0m\n",
      "\u001b[1;32mC:\\ProgramData\\Anaconda3\\lib\\http\\client.py\u001b[0m in \u001b[0;36m_read_status\u001b[1;34m(self)\u001b[0m\n\u001b[0;32m    266\u001b[0m \u001b[1;33m\u001b[0m\u001b[0m\n\u001b[0;32m    267\u001b[0m     \u001b[1;32mdef\u001b[0m \u001b[0m_read_status\u001b[0m\u001b[1;33m(\u001b[0m\u001b[0mself\u001b[0m\u001b[1;33m)\u001b[0m\u001b[1;33m:\u001b[0m\u001b[1;33m\u001b[0m\u001b[1;33m\u001b[0m\u001b[0m\n\u001b[1;32m--> 268\u001b[1;33m         \u001b[0mline\u001b[0m \u001b[1;33m=\u001b[0m \u001b[0mstr\u001b[0m\u001b[1;33m(\u001b[0m\u001b[0mself\u001b[0m\u001b[1;33m.\u001b[0m\u001b[0mfp\u001b[0m\u001b[1;33m.\u001b[0m\u001b[0mreadline\u001b[0m\u001b[1;33m(\u001b[0m\u001b[0m_MAXLINE\u001b[0m \u001b[1;33m+\u001b[0m \u001b[1;36m1\u001b[0m\u001b[1;33m)\u001b[0m\u001b[1;33m,\u001b[0m \u001b[1;34m\"iso-8859-1\"\u001b[0m\u001b[1;33m)\u001b[0m\u001b[1;33m\u001b[0m\u001b[1;33m\u001b[0m\u001b[0m\n\u001b[0m\u001b[0;32m    269\u001b[0m         \u001b[1;32mif\u001b[0m \u001b[0mlen\u001b[0m\u001b[1;33m(\u001b[0m\u001b[0mline\u001b[0m\u001b[1;33m)\u001b[0m \u001b[1;33m>\u001b[0m \u001b[0m_MAXLINE\u001b[0m\u001b[1;33m:\u001b[0m\u001b[1;33m\u001b[0m\u001b[1;33m\u001b[0m\u001b[0m\n\u001b[0;32m    270\u001b[0m             \u001b[1;32mraise\u001b[0m \u001b[0mLineTooLong\u001b[0m\u001b[1;33m(\u001b[0m\u001b[1;34m\"status line\"\u001b[0m\u001b[1;33m)\u001b[0m\u001b[1;33m\u001b[0m\u001b[1;33m\u001b[0m\u001b[0m\n",
      "\u001b[1;32mC:\\ProgramData\\Anaconda3\\lib\\socket.py\u001b[0m in \u001b[0;36mreadinto\u001b[1;34m(self, b)\u001b[0m\n\u001b[0;32m    667\u001b[0m         \u001b[1;32mwhile\u001b[0m \u001b[1;32mTrue\u001b[0m\u001b[1;33m:\u001b[0m\u001b[1;33m\u001b[0m\u001b[1;33m\u001b[0m\u001b[0m\n\u001b[0;32m    668\u001b[0m             \u001b[1;32mtry\u001b[0m\u001b[1;33m:\u001b[0m\u001b[1;33m\u001b[0m\u001b[1;33m\u001b[0m\u001b[0m\n\u001b[1;32m--> 669\u001b[1;33m                 \u001b[1;32mreturn\u001b[0m \u001b[0mself\u001b[0m\u001b[1;33m.\u001b[0m\u001b[0m_sock\u001b[0m\u001b[1;33m.\u001b[0m\u001b[0mrecv_into\u001b[0m\u001b[1;33m(\u001b[0m\u001b[0mb\u001b[0m\u001b[1;33m)\u001b[0m\u001b[1;33m\u001b[0m\u001b[1;33m\u001b[0m\u001b[0m\n\u001b[0m\u001b[0;32m    670\u001b[0m             \u001b[1;32mexcept\u001b[0m \u001b[0mtimeout\u001b[0m\u001b[1;33m:\u001b[0m\u001b[1;33m\u001b[0m\u001b[1;33m\u001b[0m\u001b[0m\n\u001b[0;32m    671\u001b[0m                 \u001b[0mself\u001b[0m\u001b[1;33m.\u001b[0m\u001b[0m_timeout_occurred\u001b[0m \u001b[1;33m=\u001b[0m \u001b[1;32mTrue\u001b[0m\u001b[1;33m\u001b[0m\u001b[1;33m\u001b[0m\u001b[0m\n",
      "\u001b[1;32mC:\\ProgramData\\Anaconda3\\lib\\ssl.py\u001b[0m in \u001b[0;36mrecv_into\u001b[1;34m(self, buffer, nbytes, flags)\u001b[0m\n\u001b[0;32m   1239\u001b[0m                   \u001b[1;34m\"non-zero flags not allowed in calls to recv_into() on %s\"\u001b[0m \u001b[1;33m%\u001b[0m\u001b[1;33m\u001b[0m\u001b[1;33m\u001b[0m\u001b[0m\n\u001b[0;32m   1240\u001b[0m                   self.__class__)\n\u001b[1;32m-> 1241\u001b[1;33m             \u001b[1;32mreturn\u001b[0m \u001b[0mself\u001b[0m\u001b[1;33m.\u001b[0m\u001b[0mread\u001b[0m\u001b[1;33m(\u001b[0m\u001b[0mnbytes\u001b[0m\u001b[1;33m,\u001b[0m \u001b[0mbuffer\u001b[0m\u001b[1;33m)\u001b[0m\u001b[1;33m\u001b[0m\u001b[1;33m\u001b[0m\u001b[0m\n\u001b[0m\u001b[0;32m   1242\u001b[0m         \u001b[1;32melse\u001b[0m\u001b[1;33m:\u001b[0m\u001b[1;33m\u001b[0m\u001b[1;33m\u001b[0m\u001b[0m\n\u001b[0;32m   1243\u001b[0m             \u001b[1;32mreturn\u001b[0m \u001b[0msuper\u001b[0m\u001b[1;33m(\u001b[0m\u001b[1;33m)\u001b[0m\u001b[1;33m.\u001b[0m\u001b[0mrecv_into\u001b[0m\u001b[1;33m(\u001b[0m\u001b[0mbuffer\u001b[0m\u001b[1;33m,\u001b[0m \u001b[0mnbytes\u001b[0m\u001b[1;33m,\u001b[0m \u001b[0mflags\u001b[0m\u001b[1;33m)\u001b[0m\u001b[1;33m\u001b[0m\u001b[1;33m\u001b[0m\u001b[0m\n",
      "\u001b[1;32mC:\\ProgramData\\Anaconda3\\lib\\ssl.py\u001b[0m in \u001b[0;36mread\u001b[1;34m(self, len, buffer)\u001b[0m\n\u001b[0;32m   1097\u001b[0m         \u001b[1;32mtry\u001b[0m\u001b[1;33m:\u001b[0m\u001b[1;33m\u001b[0m\u001b[1;33m\u001b[0m\u001b[0m\n\u001b[0;32m   1098\u001b[0m             \u001b[1;32mif\u001b[0m \u001b[0mbuffer\u001b[0m \u001b[1;32mis\u001b[0m \u001b[1;32mnot\u001b[0m \u001b[1;32mNone\u001b[0m\u001b[1;33m:\u001b[0m\u001b[1;33m\u001b[0m\u001b[1;33m\u001b[0m\u001b[0m\n\u001b[1;32m-> 1099\u001b[1;33m                 \u001b[1;32mreturn\u001b[0m \u001b[0mself\u001b[0m\u001b[1;33m.\u001b[0m\u001b[0m_sslobj\u001b[0m\u001b[1;33m.\u001b[0m\u001b[0mread\u001b[0m\u001b[1;33m(\u001b[0m\u001b[0mlen\u001b[0m\u001b[1;33m,\u001b[0m \u001b[0mbuffer\u001b[0m\u001b[1;33m)\u001b[0m\u001b[1;33m\u001b[0m\u001b[1;33m\u001b[0m\u001b[0m\n\u001b[0m\u001b[0;32m   1100\u001b[0m             \u001b[1;32melse\u001b[0m\u001b[1;33m:\u001b[0m\u001b[1;33m\u001b[0m\u001b[1;33m\u001b[0m\u001b[0m\n\u001b[0;32m   1101\u001b[0m                 \u001b[1;32mreturn\u001b[0m \u001b[0mself\u001b[0m\u001b[1;33m.\u001b[0m\u001b[0m_sslobj\u001b[0m\u001b[1;33m.\u001b[0m\u001b[0mread\u001b[0m\u001b[1;33m(\u001b[0m\u001b[0mlen\u001b[0m\u001b[1;33m)\u001b[0m\u001b[1;33m\u001b[0m\u001b[1;33m\u001b[0m\u001b[0m\n",
      "\u001b[1;31mKeyboardInterrupt\u001b[0m: "
     ]
    }
   ],
   "source": [
    "response = []\n",
    "for add in range(1,51):\n",
    "    response.append(requests.get(f'https://api.themoviedb.org/3/tv/top_rated?api_key=ab024c8114780f239a8861b4423e138d&language=pt-BR&page={add}'))\n",
    "\n",
    "for i in response:\n",
    "    i.json()\n",
    "    i.json().keys()\n",
    "    results = i.json()\n",
    "    #print(results)\n",
    "    df_1 = pd.json_normalize(results,'results')\n",
    "    print(df_1)\n",
    "    df = df.append(df_1)"
   ]
  },
  {
   "cell_type": "code",
   "execution_count": null,
   "metadata": {
    "ExecuteTime": {
     "end_time": "2020-12-18T05:56:48.605302Z",
     "start_time": "2020-12-18T05:56:37.195Z"
    }
   },
   "outputs": [],
   "source": [
    "df = df.dropna()"
   ]
  },
  {
   "cell_type": "code",
   "execution_count": null,
   "metadata": {
    "ExecuteTime": {
     "end_time": "2020-12-18T05:56:48.607299Z",
     "start_time": "2020-12-18T05:56:37.222Z"
    }
   },
   "outputs": [],
   "source": [
    "chrome_path = '/Users/Adriano/OneDrive/Documentos/GitHub/projeto_final/chromedriver'"
   ]
  },
  {
   "cell_type": "code",
   "execution_count": null,
   "metadata": {
    "ExecuteTime": {
     "end_time": "2020-12-18T05:56:48.609298Z",
     "start_time": "2020-12-18T05:56:37.229Z"
    }
   },
   "outputs": [],
   "source": [
    "driver = webdriver.Chrome(executable_path=chrome_path)"
   ]
  },
  {
   "cell_type": "code",
   "execution_count": null,
   "metadata": {
    "ExecuteTime": {
     "end_time": "2020-12-18T05:56:48.611299Z",
     "start_time": "2020-12-18T05:56:37.234Z"
    }
   },
   "outputs": [],
   "source": [
    "url = 'https://www.themoviedb.org/tv/top-rated'"
   ]
  },
  {
   "cell_type": "code",
   "execution_count": null,
   "metadata": {
    "ExecuteTime": {
     "end_time": "2020-12-18T05:56:48.613296Z",
     "start_time": "2020-12-18T05:56:37.245Z"
    }
   },
   "outputs": [],
   "source": [
    "driver.get(url)"
   ]
  },
  {
   "cell_type": "code",
   "execution_count": null,
   "metadata": {
    "ExecuteTime": {
     "end_time": "2020-12-18T05:56:48.615295Z",
     "start_time": "2020-12-18T05:56:37.258Z"
    }
   },
   "outputs": [],
   "source": [
    "elem = driver.find_element_by_xpath('/html/body/div[1]/main/section/div/div/div/div[2]/div[1]/div[2]/div[1]')"
   ]
  },
  {
   "cell_type": "code",
   "execution_count": null,
   "metadata": {
    "ExecuteTime": {
     "end_time": "2020-12-18T05:56:48.617293Z",
     "start_time": "2020-12-18T05:56:37.263Z"
    }
   },
   "outputs": [],
   "source": [
    "elem.click()"
   ]
  },
  {
   "cell_type": "code",
   "execution_count": null,
   "metadata": {
    "ExecuteTime": {
     "end_time": "2020-12-18T05:56:48.619293Z",
     "start_time": "2020-12-18T05:56:37.274Z"
    }
   },
   "outputs": [],
   "source": [
    "#elem_0 = driver.find_element_by_xpath('/html/body/div[1]/main/section/div/div/div/div[2]/div[1]/div[2]/div[10]/div/div/div[1]/a[1]')"
   ]
  },
  {
   "cell_type": "code",
   "execution_count": null,
   "metadata": {
    "ExecuteTime": {
     "end_time": "2020-12-18T05:56:48.623289Z",
     "start_time": "2020-12-18T05:56:37.282Z"
    }
   },
   "outputs": [],
   "source": [
    "#elem_0.click(\"aria-valuemax\")"
   ]
  },
  {
   "cell_type": "code",
   "execution_count": null,
   "metadata": {
    "ExecuteTime": {
     "end_time": "2020-12-18T05:56:48.625288Z",
     "start_time": "2020-12-18T05:56:37.291Z"
    }
   },
   "outputs": [],
   "source": [
    "elem_1 = driver.find_element_by_xpath('/html/body/div[1]/main/section/div/div/div/div[2]/div[1]/div[3]')"
   ]
  },
  {
   "cell_type": "code",
   "execution_count": null,
   "metadata": {
    "ExecuteTime": {
     "end_time": "2020-12-18T05:56:48.627286Z",
     "start_time": "2020-12-18T05:56:37.299Z"
    }
   },
   "outputs": [],
   "source": [
    "elem_1.click()"
   ]
  },
  {
   "cell_type": "code",
   "execution_count": null,
   "metadata": {
    "ExecuteTime": {
     "end_time": "2020-12-18T05:56:48.628287Z",
     "start_time": "2020-12-18T05:56:37.309Z"
    }
   },
   "outputs": [],
   "source": [
    "elem_2 = driver.find_element_by_xpath('/html/body/div[1]/main/section/div/div/div/div[2]/div[1]/div[3]/div[3]/span[2]/ul/li[1]')"
   ]
  },
  {
   "cell_type": "code",
   "execution_count": null,
   "metadata": {
    "ExecuteTime": {
     "end_time": "2020-12-18T05:56:48.630285Z",
     "start_time": "2020-12-18T05:56:37.315Z"
    }
   },
   "outputs": [],
   "source": [
    "elem_2.click()"
   ]
  },
  {
   "cell_type": "code",
   "execution_count": null,
   "metadata": {
    "ExecuteTime": {
     "end_time": "2020-12-18T05:56:48.632284Z",
     "start_time": "2020-12-18T05:56:37.324Z"
    }
   },
   "outputs": [],
   "source": [
    "elem_3 = driver.find_element_by_xpath('/html/body/div[1]/main/section/div/div/div/div[2]/div[1]/div[4]/p/a')"
   ]
  },
  {
   "cell_type": "code",
   "execution_count": null,
   "metadata": {
    "ExecuteTime": {
     "end_time": "2020-12-18T05:56:48.634282Z",
     "start_time": "2020-12-18T05:56:37.332Z"
    }
   },
   "outputs": [],
   "source": [
    "elem_3.click()"
   ]
  },
  {
   "cell_type": "code",
   "execution_count": null,
   "metadata": {
    "ExecuteTime": {
     "end_time": "2020-12-18T05:56:48.637281Z",
     "start_time": "2020-12-18T05:56:37.343Z"
    }
   },
   "outputs": [],
   "source": [
    "elem_4 = driver.find_element_by_xpath('/html/body/div[1]/main/section/div/div/div/div[2]/div[2]/div/section/div/div/div[24]/p/a')"
   ]
  },
  {
   "cell_type": "code",
   "execution_count": null,
   "metadata": {
    "ExecuteTime": {
     "end_time": "2020-12-18T05:56:48.640278Z",
     "start_time": "2020-12-18T05:56:37.365Z"
    }
   },
   "outputs": [],
   "source": [
    "elem_4.click()"
   ]
  },
  {
   "cell_type": "code",
   "execution_count": null,
   "metadata": {
    "ExecuteTime": {
     "end_time": "2020-12-18T05:56:48.642277Z",
     "start_time": "2020-12-18T05:56:37.373Z"
    }
   },
   "outputs": [],
   "source": [
    "from selenium.webdriver.common.keys import Keys\n",
    "html = driver.find_element_by_tag_name('html')\n",
    "html.send_keys(Keys.PAGE_DOWN)"
   ]
  },
  {
   "cell_type": "code",
   "execution_count": null,
   "metadata": {
    "ExecuteTime": {
     "end_time": "2020-12-18T05:56:48.644276Z",
     "start_time": "2020-12-18T05:56:37.390Z"
    }
   },
   "outputs": [],
   "source": [
    "html.send_keys(Keys.PAGE_DOWN*100)"
   ]
  },
  {
   "cell_type": "code",
   "execution_count": null,
   "metadata": {
    "ExecuteTime": {
     "end_time": "2020-12-18T05:56:48.646274Z",
     "start_time": "2020-12-18T05:56:37.395Z"
    }
   },
   "outputs": [],
   "source": [
    "driver.find_elements_by_tag_name('h2')[254].text"
   ]
  },
  {
   "cell_type": "code",
   "execution_count": null,
   "metadata": {
    "ExecuteTime": {
     "end_time": "2020-12-18T05:56:48.648273Z",
     "start_time": "2020-12-18T05:56:37.400Z"
    }
   },
   "outputs": [],
   "source": [
    "series_netflix = []"
   ]
  },
  {
   "cell_type": "code",
   "execution_count": null,
   "metadata": {
    "ExecuteTime": {
     "end_time": "2020-12-18T05:56:48.650272Z",
     "start_time": "2020-12-18T05:56:37.412Z"
    }
   },
   "outputs": [],
   "source": [
    "for serie in range(4,255):\n",
    "   series_netflix.append(driver.find_elements_by_tag_name('h2')[serie].text)\n",
    "        \n",
    "print(series_netflix)"
   ]
  },
  {
   "cell_type": "code",
   "execution_count": null,
   "metadata": {
    "ExecuteTime": {
     "end_time": "2020-12-18T05:56:48.651271Z",
     "start_time": "2020-12-18T05:56:37.417Z"
    }
   },
   "outputs": [],
   "source": [
    "series_netflix = pd.DataFrame(series_netflix, columns = ['name'])"
   ]
  },
  {
   "cell_type": "code",
   "execution_count": null,
   "metadata": {
    "ExecuteTime": {
     "end_time": "2020-12-18T05:56:48.654270Z",
     "start_time": "2020-12-18T05:56:37.423Z"
    }
   },
   "outputs": [],
   "source": [
    "series_netflix"
   ]
  },
  {
   "cell_type": "code",
   "execution_count": null,
   "metadata": {
    "ExecuteTime": {
     "end_time": "2020-12-18T05:56:48.657268Z",
     "start_time": "2020-12-18T05:56:37.429Z"
    }
   },
   "outputs": [],
   "source": [
    "series = series_netflix.merge(df, on=['name'], how='left').drop(columns=['genre_ids','backdrop_path',]).dropna()"
   ]
  },
  {
   "cell_type": "code",
   "execution_count": null,
   "metadata": {
    "ExecuteTime": {
     "end_time": "2020-12-18T05:56:48.659267Z",
     "start_time": "2020-12-18T05:56:37.442Z"
    }
   },
   "outputs": [],
   "source": [
    "series"
   ]
  },
  {
   "cell_type": "code",
   "execution_count": null,
   "metadata": {
    "ExecuteTime": {
     "end_time": "2020-12-18T05:56:48.660266Z",
     "start_time": "2020-12-18T05:56:37.462Z"
    }
   },
   "outputs": [],
   "source": [
    "series.columns"
   ]
  },
  {
   "cell_type": "code",
   "execution_count": null,
   "metadata": {
    "ExecuteTime": {
     "end_time": "2020-12-18T05:56:48.662264Z",
     "start_time": "2020-12-18T05:56:37.470Z"
    }
   },
   "outputs": [],
   "source": [
    "series.columns = ['NOME', 'DATA DE ESTREIA', 'ID', 'PAÍS DE ORIGEM', 'LINGUA DE ORIGEM', 'NOME ORIGINAL', 'RESUMO', 'POPULARIDADE', 'POSTER', 'VOTO MÉDIO', 'CONTAGEM DE VOTOS']"
   ]
  },
  {
   "cell_type": "code",
   "execution_count": null,
   "metadata": {
    "ExecuteTime": {
     "end_time": "2020-12-18T05:56:48.664263Z",
     "start_time": "2020-12-18T05:56:37.491Z"
    }
   },
   "outputs": [],
   "source": [
    "series['NOME']"
   ]
  },
  {
   "cell_type": "code",
   "execution_count": null,
   "metadata": {
    "ExecuteTime": {
     "end_time": "2020-12-18T05:56:48.666262Z",
     "start_time": "2020-12-18T05:56:37.496Z"
    }
   },
   "outputs": [],
   "source": [
    "response_1 = requests.get(f'https://imdb-api.com/en/API/Top250TVs/k_4sz5q6a8')\n",
    "response_1.json()\n",
    "response_1.json().keys()\n",
    "results_1 = response_1.json()\n",
    "df_1 = pd.json_normalize(results_1,'items')\n"
   ]
  },
  {
   "cell_type": "code",
   "execution_count": null,
   "metadata": {
    "ExecuteTime": {
     "end_time": "2020-12-18T05:56:48.668261Z",
     "start_time": "2020-12-18T05:56:37.514Z"
    }
   },
   "outputs": [],
   "source": [
    "df_1"
   ]
  },
  {
   "cell_type": "code",
   "execution_count": null,
   "metadata": {
    "ExecuteTime": {
     "end_time": "2020-12-18T05:56:48.672259Z",
     "start_time": "2020-12-18T05:56:37.524Z"
    }
   },
   "outputs": [],
   "source": [
    "df_1 = df_1.drop(columns = ['id','rank','image','crew','fullTitle'])"
   ]
  },
  {
   "cell_type": "code",
   "execution_count": null,
   "metadata": {
    "ExecuteTime": {
     "end_time": "2020-12-18T05:56:48.680253Z",
     "start_time": "2020-12-18T05:56:37.539Z"
    }
   },
   "outputs": [],
   "source": [
    "df_1"
   ]
  },
  {
   "cell_type": "code",
   "execution_count": null,
   "metadata": {
    "ExecuteTime": {
     "end_time": "2020-12-18T05:56:48.691247Z",
     "start_time": "2020-12-18T05:56:37.556Z"
    }
   },
   "outputs": [],
   "source": [
    "df_1.columns = ['NOME ORIGINAL', 'ANO', 'NOTA IMDB', 'CONTAGEM DE VOTOS IMDB']"
   ]
  },
  {
   "cell_type": "code",
   "execution_count": null,
   "metadata": {
    "ExecuteTime": {
     "end_time": "2020-12-18T05:56:48.693244Z",
     "start_time": "2020-12-18T05:56:37.565Z"
    }
   },
   "outputs": [],
   "source": [
    "df_1"
   ]
  },
  {
   "cell_type": "code",
   "execution_count": null,
   "metadata": {
    "ExecuteTime": {
     "end_time": "2020-12-18T05:56:48.696242Z",
     "start_time": "2020-12-18T05:56:37.574Z"
    }
   },
   "outputs": [],
   "source": [
    "series.to_csv('data/series.csv', index=False)"
   ]
  },
  {
   "cell_type": "code",
   "execution_count": null,
   "metadata": {
    "ExecuteTime": {
     "end_time": "2020-12-18T05:56:48.698241Z",
     "start_time": "2020-12-18T05:56:37.586Z"
    }
   },
   "outputs": [],
   "source": [
    "df_1.to_csv('data/imdb.csv', index=False)"
   ]
  },
  {
   "cell_type": "code",
   "execution_count": null,
   "metadata": {
    "ExecuteTime": {
     "end_time": "2020-12-18T05:56:48.700240Z",
     "start_time": "2020-12-18T05:56:37.594Z"
    }
   },
   "outputs": [],
   "source": [
    "netflix = series.merge(df_1, on=['NOME ORIGINAL'], how='left').dropna()"
   ]
  },
  {
   "cell_type": "code",
   "execution_count": null,
   "metadata": {
    "ExecuteTime": {
     "end_time": "2020-12-18T05:56:48.702239Z",
     "start_time": "2020-12-18T05:56:37.608Z"
    }
   },
   "outputs": [],
   "source": [
    "netflix"
   ]
  },
  {
   "cell_type": "code",
   "execution_count": null,
   "metadata": {
    "ExecuteTime": {
     "end_time": "2020-12-18T05:56:48.706237Z",
     "start_time": "2020-12-18T05:56:37.622Z"
    }
   },
   "outputs": [],
   "source": [
    "df = df.drop(columns=['genre_ids','backdrop_path','first_air_date'])"
   ]
  },
  {
   "cell_type": "code",
   "execution_count": null,
   "metadata": {
    "ExecuteTime": {
     "end_time": "2020-12-18T05:56:48.708235Z",
     "start_time": "2020-12-18T05:56:37.634Z"
    }
   },
   "outputs": [],
   "source": [
    "df.columns = ['ID', 'NOME', 'PAÍS DE ORIGEM', 'LINGUA DE ORIGEM', 'NOME ORIGINAL', 'RESUMO', 'POPULARIDADE', 'POSTER', 'VOTO MÉDIO', 'CONTAGEM DE VOTOS']"
   ]
  },
  {
   "cell_type": "code",
   "execution_count": null,
   "metadata": {
    "ExecuteTime": {
     "end_time": "2020-12-18T05:56:48.711233Z",
     "start_time": "2020-12-18T05:56:37.640Z"
    }
   },
   "outputs": [],
   "source": [
    "df.to_csv('data/todas_series.csv', index=False)"
   ]
  },
  {
   "cell_type": "code",
   "execution_count": null,
   "metadata": {
    "ExecuteTime": {
     "end_time": "2020-12-18T05:56:48.718229Z",
     "start_time": "2020-12-18T05:56:37.652Z"
    }
   },
   "outputs": [],
   "source": [
    "netflix.to_csv('data/rank_series.csv', index=False)"
   ]
  },
  {
   "cell_type": "code",
   "execution_count": null,
   "metadata": {
    "ExecuteTime": {
     "end_time": "2020-12-18T05:56:48.720227Z",
     "start_time": "2020-12-18T05:56:37.661Z"
    }
   },
   "outputs": [],
   "source": [
    "df"
   ]
  },
  {
   "cell_type": "code",
   "execution_count": null,
   "metadata": {
    "ExecuteTime": {
     "end_time": "2020-12-18T05:56:48.722226Z",
     "start_time": "2020-12-18T05:56:37.676Z"
    }
   },
   "outputs": [],
   "source": [
    "teste = df.merge(df_1, on=['NOME ORIGINAL'], how='left').fillna(0)"
   ]
  },
  {
   "cell_type": "code",
   "execution_count": null,
   "metadata": {
    "ExecuteTime": {
     "end_time": "2020-12-18T05:56:48.724226Z",
     "start_time": "2020-12-18T05:56:37.696Z"
    }
   },
   "outputs": [],
   "source": [
    "teste"
   ]
  },
  {
   "cell_type": "code",
   "execution_count": null,
   "metadata": {
    "ExecuteTime": {
     "end_time": "2020-12-18T05:56:48.726224Z",
     "start_time": "2020-12-18T05:56:37.718Z"
    }
   },
   "outputs": [],
   "source": [
    "teste[['NOTA IMDB', 'CONTAGEM DE VOTOS IMDB']] = teste[['NOTA IMDB', 'CONTAGEM DE VOTOS IMDB']].astype(float)"
   ]
  },
  {
   "cell_type": "code",
   "execution_count": null,
   "metadata": {
    "ExecuteTime": {
     "end_time": "2020-12-18T05:56:48.727223Z",
     "start_time": "2020-12-18T05:56:37.724Z"
    }
   },
   "outputs": [],
   "source": [
    "teste['ANO'] = teste['ANO'].astype(int)"
   ]
  },
  {
   "cell_type": "code",
   "execution_count": null,
   "metadata": {
    "ExecuteTime": {
     "end_time": "2020-12-18T05:56:48.730221Z",
     "start_time": "2020-12-18T05:56:37.731Z"
    }
   },
   "outputs": [],
   "source": [
    "teste.columns"
   ]
  },
  {
   "cell_type": "code",
   "execution_count": null,
   "metadata": {
    "ExecuteTime": {
     "end_time": "2020-12-18T05:56:48.732220Z",
     "start_time": "2020-12-18T05:56:37.742Z"
    }
   },
   "outputs": [],
   "source": [
    "teste['MELHORES SERIES'] = 0"
   ]
  },
  {
   "cell_type": "code",
   "execution_count": null,
   "metadata": {
    "ExecuteTime": {
     "end_time": "2020-12-18T05:56:48.747210Z",
     "start_time": "2020-12-18T05:56:37.747Z"
    }
   },
   "outputs": [],
   "source": [
    "ms =[]\n",
    "for i,j in zip(teste['VOTO MÉDIO'],teste['NOTA IMDB']):\n",
    "    if i >= 8.2:        \n",
    "        ms.append(1)\n",
    "    else:\n",
    "        ms.append(0)"
   ]
  },
  {
   "cell_type": "code",
   "execution_count": null,
   "metadata": {
    "ExecuteTime": {
     "end_time": "2020-12-18T05:56:48.749209Z",
     "start_time": "2020-12-18T05:56:37.758Z"
    }
   },
   "outputs": [],
   "source": [
    "teste['MELHORES SERIES'] = ms"
   ]
  },
  {
   "cell_type": "code",
   "execution_count": null,
   "metadata": {
    "ExecuteTime": {
     "end_time": "2020-12-18T05:56:48.752208Z",
     "start_time": "2020-12-18T05:56:37.772Z"
    }
   },
   "outputs": [],
   "source": [
    "teste.sort_values('CONTAGEM DE VOTOS IMDB', ascending= False, inplace = True)"
   ]
  },
  {
   "cell_type": "code",
   "execution_count": null,
   "metadata": {
    "ExecuteTime": {
     "end_time": "2020-12-18T05:56:48.758203Z",
     "start_time": "2020-12-18T05:56:37.779Z"
    }
   },
   "outputs": [],
   "source": [
    "teste['MELHORES SERIES'].value_counts()"
   ]
  },
  {
   "cell_type": "code",
   "execution_count": 21,
   "metadata": {
    "ExecuteTime": {
     "end_time": "2020-12-18T06:00:43.775357Z",
     "start_time": "2020-12-18T06:00:43.761369Z"
    }
   },
   "outputs": [],
   "source": [
    "var= []\n",
    "for i in teste['CONTAGEM DE VOTOS IMDB']:\n",
    "    if i == 0.0:\n",
    "        var.append(5000)\n",
    "    else:\n",
    "        var.append(i)"
   ]
  },
  {
   "cell_type": "code",
   "execution_count": 22,
   "metadata": {
    "ExecuteTime": {
     "end_time": "2020-12-18T06:00:50.516280Z",
     "start_time": "2020-12-18T06:00:50.497291Z"
    }
   },
   "outputs": [],
   "source": [
    "teste['CONTAGEM DE VOTOS IMDB'] = var"
   ]
  },
  {
   "cell_type": "code",
   "execution_count": 23,
   "metadata": {
    "ExecuteTime": {
     "end_time": "2020-12-18T06:00:54.146740Z",
     "start_time": "2020-12-18T06:00:54.137748Z"
    }
   },
   "outputs": [],
   "source": [
    "voto= []\n",
    "for i,j in zip(teste['VOTO MÉDIO'],teste['NOTA IMDB']):\n",
    "    if i >= 7 and i <= 8 and j == 0:\n",
    "        voto.append(8)\n",
    "    elif i >= 8 and i <= 9 and j == 0:\n",
    "        voto.append(8.2)\n",
    "    elif i >= 9 and i <= 10 and j == 0:\n",
    "        voto.append(8.4)\n",
    "    else:\n",
    "        voto.append(j)"
   ]
  },
  {
   "cell_type": "code",
   "execution_count": 24,
   "metadata": {
    "ExecuteTime": {
     "end_time": "2020-12-18T06:00:56.344235Z",
     "start_time": "2020-12-18T06:00:56.336244Z"
    }
   },
   "outputs": [],
   "source": [
    "teste['NOTA IMDB'] = voto"
   ]
  },
  {
   "cell_type": "code",
   "execution_count": 27,
   "metadata": {
    "ExecuteTime": {
     "end_time": "2020-12-18T06:01:15.643722Z",
     "start_time": "2020-12-18T06:01:15.580762Z"
    }
   },
   "outputs": [
    {
     "data": {
      "text/html": [
       "<div>\n",
       "<style scoped>\n",
       "    .dataframe tbody tr th:only-of-type {\n",
       "        vertical-align: middle;\n",
       "    }\n",
       "\n",
       "    .dataframe tbody tr th {\n",
       "        vertical-align: top;\n",
       "    }\n",
       "\n",
       "    .dataframe thead th {\n",
       "        text-align: right;\n",
       "    }\n",
       "</style>\n",
       "<table border=\"1\" class=\"dataframe\">\n",
       "  <thead>\n",
       "    <tr style=\"text-align: right;\">\n",
       "      <th></th>\n",
       "      <th>ID</th>\n",
       "      <th>NOME</th>\n",
       "      <th>PAÍS DE ORIGEM</th>\n",
       "      <th>LINGUA DE ORIGEM</th>\n",
       "      <th>NOME ORIGINAL</th>\n",
       "      <th>RESUMO</th>\n",
       "      <th>POPULARIDADE</th>\n",
       "      <th>POSTER</th>\n",
       "      <th>VOTO MÉDIO</th>\n",
       "      <th>CONTAGEM DE VOTOS</th>\n",
       "      <th>ANO</th>\n",
       "      <th>NOTA IMDB</th>\n",
       "      <th>CONTAGEM DE VOTOS IMDB</th>\n",
       "      <th>MELHORES SERIES</th>\n",
       "    </tr>\n",
       "  </thead>\n",
       "  <tbody>\n",
       "    <tr>\n",
       "      <th>0</th>\n",
       "      <td>1399</td>\n",
       "      <td>Game of Thrones</td>\n",
       "      <td>['US']</td>\n",
       "      <td>en</td>\n",
       "      <td>Game of Thrones</td>\n",
       "      <td>Em uma terra onde os verões podem durar vários...</td>\n",
       "      <td>321.874</td>\n",
       "      <td>/u3bZgnGQ9T01sWNhyveQz0wH0Hl.jpg</td>\n",
       "      <td>8.3</td>\n",
       "      <td>11839</td>\n",
       "      <td>2011</td>\n",
       "      <td>9.2</td>\n",
       "      <td>1738802.0</td>\n",
       "      <td>1</td>\n",
       "    </tr>\n",
       "    <tr>\n",
       "      <th>1</th>\n",
       "      <td>1396</td>\n",
       "      <td>Breaking Bad: A Química do Mal</td>\n",
       "      <td>['US']</td>\n",
       "      <td>en</td>\n",
       "      <td>Breaking Bad</td>\n",
       "      <td>Ao saber que tem câncer, um professor passa a ...</td>\n",
       "      <td>204.841</td>\n",
       "      <td>/30erzlzIOtOK3k3T3BAl1GiVMP1.jpg</td>\n",
       "      <td>8.7</td>\n",
       "      <td>6122</td>\n",
       "      <td>2008</td>\n",
       "      <td>9.4</td>\n",
       "      <td>1430288.0</td>\n",
       "      <td>1</td>\n",
       "    </tr>\n",
       "    <tr>\n",
       "      <th>2</th>\n",
       "      <td>1668</td>\n",
       "      <td>Friends</td>\n",
       "      <td>['US']</td>\n",
       "      <td>en</td>\n",
       "      <td>Friends</td>\n",
       "      <td>Seis jovens são unidos por laços familiares, r...</td>\n",
       "      <td>139.818</td>\n",
       "      <td>/f496cm9enuEsZkSPzCwnTESEK5s.jpg</td>\n",
       "      <td>8.2</td>\n",
       "      <td>3353</td>\n",
       "      <td>1994</td>\n",
       "      <td>8.8</td>\n",
       "      <td>808056.0</td>\n",
       "      <td>1</td>\n",
       "    </tr>\n",
       "    <tr>\n",
       "      <th>3</th>\n",
       "      <td>66732</td>\n",
       "      <td>Stranger Things</td>\n",
       "      <td>['US']</td>\n",
       "      <td>en</td>\n",
       "      <td>Stranger Things</td>\n",
       "      <td>Quando um garoto desaparece, a cidade toda par...</td>\n",
       "      <td>196.204</td>\n",
       "      <td>/g3nzhHBDTrJ7RWhzozFTYFjvRbd.jpg</td>\n",
       "      <td>8.6</td>\n",
       "      <td>6780</td>\n",
       "      <td>2016</td>\n",
       "      <td>8.7</td>\n",
       "      <td>797234.0</td>\n",
       "      <td>1</td>\n",
       "    </tr>\n",
       "    <tr>\n",
       "      <th>4</th>\n",
       "      <td>19885</td>\n",
       "      <td>Sherlock</td>\n",
       "      <td>['GB']</td>\n",
       "      <td>en</td>\n",
       "      <td>Sherlock</td>\n",
       "      <td>Nesta versão moderna dos livros de Sir Arthur ...</td>\n",
       "      <td>63.367</td>\n",
       "      <td>/7WTsnHkbA0FaG6R9twfFde0I9hl.jpg</td>\n",
       "      <td>8.4</td>\n",
       "      <td>2626</td>\n",
       "      <td>2010</td>\n",
       "      <td>9.0</td>\n",
       "      <td>794217.0</td>\n",
       "      <td>1</td>\n",
       "    </tr>\n",
       "    <tr>\n",
       "      <th>...</th>\n",
       "      <td>...</td>\n",
       "      <td>...</td>\n",
       "      <td>...</td>\n",
       "      <td>...</td>\n",
       "      <td>...</td>\n",
       "      <td>...</td>\n",
       "      <td>...</td>\n",
       "      <td>...</td>\n",
       "      <td>...</td>\n",
       "      <td>...</td>\n",
       "      <td>...</td>\n",
       "      <td>...</td>\n",
       "      <td>...</td>\n",
       "      <td>...</td>\n",
       "    </tr>\n",
       "    <tr>\n",
       "      <th>996</th>\n",
       "      <td>46849</td>\n",
       "      <td>Filhos da Guerra</td>\n",
       "      <td>['DE']</td>\n",
       "      <td>de</td>\n",
       "      <td>Unsere Mütter, unsere Väter</td>\n",
       "      <td>A obra acompanha a vida de cinco amigos que tê...</td>\n",
       "      <td>14.108</td>\n",
       "      <td>/loXl5jZ5X0Q5sxZwqjkjQQS0Jll.jpg</td>\n",
       "      <td>8.1</td>\n",
       "      <td>189</td>\n",
       "      <td>0</td>\n",
       "      <td>8.2</td>\n",
       "      <td>5000.0</td>\n",
       "      <td>1</td>\n",
       "    </tr>\n",
       "    <tr>\n",
       "      <th>997</th>\n",
       "      <td>1622</td>\n",
       "      <td>Sobrenatural</td>\n",
       "      <td>['US']</td>\n",
       "      <td>en</td>\n",
       "      <td>Supernatural</td>\n",
       "      <td>Os irmãos Dean e Sam vasculham o país em busca...</td>\n",
       "      <td>313.549</td>\n",
       "      <td>/ltLshA9CpddtLTHhcGQ7lGGM7uZ.jpg</td>\n",
       "      <td>8.1</td>\n",
       "      <td>4409</td>\n",
       "      <td>0</td>\n",
       "      <td>8.2</td>\n",
       "      <td>5000.0</td>\n",
       "      <td>1</td>\n",
       "    </tr>\n",
       "    <tr>\n",
       "      <th>998</th>\n",
       "      <td>87689</td>\n",
       "      <td>Warrior Nun</td>\n",
       "      <td>['US']</td>\n",
       "      <td>en</td>\n",
       "      <td>Warrior Nun</td>\n",
       "      <td>Uma jovem acorda no necrotério com superpodere...</td>\n",
       "      <td>63.358</td>\n",
       "      <td>/77OM9jMJ8nglaolHLwrAW7kvadV.jpg</td>\n",
       "      <td>8.1</td>\n",
       "      <td>537</td>\n",
       "      <td>0</td>\n",
       "      <td>8.2</td>\n",
       "      <td>5000.0</td>\n",
       "      <td>1</td>\n",
       "    </tr>\n",
       "    <tr>\n",
       "      <th>999</th>\n",
       "      <td>48891</td>\n",
       "      <td>Brooklyn Nine-Nine</td>\n",
       "      <td>['US']</td>\n",
       "      <td>en</td>\n",
       "      <td>Brooklyn Nine-Nine</td>\n",
       "      <td>O brilhante e imaturo detetive Jake Peralta pr...</td>\n",
       "      <td>90.708</td>\n",
       "      <td>/yMeyZHAlakxTRGJT0hp96Zz2Xfw.jpg</td>\n",
       "      <td>8.1</td>\n",
       "      <td>1425</td>\n",
       "      <td>0</td>\n",
       "      <td>8.2</td>\n",
       "      <td>5000.0</td>\n",
       "      <td>1</td>\n",
       "    </tr>\n",
       "    <tr>\n",
       "      <th>1000</th>\n",
       "      <td>100698</td>\n",
       "      <td>A Máfia dos Tigres</td>\n",
       "      <td>['US']</td>\n",
       "      <td>en</td>\n",
       "      <td>Tiger King: Murder, Mayhem and Madness</td>\n",
       "      <td>O dono de um zoológico perde o controle e acab...</td>\n",
       "      <td>9.280</td>\n",
       "      <td>/pmjYMCnSwndlEpiFZhhOWSWmUsu.jpg</td>\n",
       "      <td>7.4</td>\n",
       "      <td>130</td>\n",
       "      <td>0</td>\n",
       "      <td>8.0</td>\n",
       "      <td>5000.0</td>\n",
       "      <td>0</td>\n",
       "    </tr>\n",
       "  </tbody>\n",
       "</table>\n",
       "<p>1001 rows × 14 columns</p>\n",
       "</div>"
      ],
      "text/plain": [
       "          ID                            NOME PAÍS DE ORIGEM LINGUA DE ORIGEM  \\\n",
       "0       1399                 Game of Thrones         ['US']               en   \n",
       "1       1396  Breaking Bad: A Química do Mal         ['US']               en   \n",
       "2       1668                         Friends         ['US']               en   \n",
       "3      66732                 Stranger Things         ['US']               en   \n",
       "4      19885                        Sherlock         ['GB']               en   \n",
       "...      ...                             ...            ...              ...   \n",
       "996    46849                Filhos da Guerra         ['DE']               de   \n",
       "997     1622                    Sobrenatural         ['US']               en   \n",
       "998    87689                     Warrior Nun         ['US']               en   \n",
       "999    48891              Brooklyn Nine-Nine         ['US']               en   \n",
       "1000  100698              A Máfia dos Tigres         ['US']               en   \n",
       "\n",
       "                               NOME ORIGINAL  \\\n",
       "0                            Game of Thrones   \n",
       "1                               Breaking Bad   \n",
       "2                                    Friends   \n",
       "3                            Stranger Things   \n",
       "4                                   Sherlock   \n",
       "...                                      ...   \n",
       "996              Unsere Mütter, unsere Väter   \n",
       "997                             Supernatural   \n",
       "998                              Warrior Nun   \n",
       "999                       Brooklyn Nine-Nine   \n",
       "1000  Tiger King: Murder, Mayhem and Madness   \n",
       "\n",
       "                                                 RESUMO  POPULARIDADE  \\\n",
       "0     Em uma terra onde os verões podem durar vários...       321.874   \n",
       "1     Ao saber que tem câncer, um professor passa a ...       204.841   \n",
       "2     Seis jovens são unidos por laços familiares, r...       139.818   \n",
       "3     Quando um garoto desaparece, a cidade toda par...       196.204   \n",
       "4     Nesta versão moderna dos livros de Sir Arthur ...        63.367   \n",
       "...                                                 ...           ...   \n",
       "996   A obra acompanha a vida de cinco amigos que tê...        14.108   \n",
       "997   Os irmãos Dean e Sam vasculham o país em busca...       313.549   \n",
       "998   Uma jovem acorda no necrotério com superpodere...        63.358   \n",
       "999   O brilhante e imaturo detetive Jake Peralta pr...        90.708   \n",
       "1000  O dono de um zoológico perde o controle e acab...         9.280   \n",
       "\n",
       "                                POSTER  VOTO MÉDIO  CONTAGEM DE VOTOS   ANO  \\\n",
       "0     /u3bZgnGQ9T01sWNhyveQz0wH0Hl.jpg         8.3              11839  2011   \n",
       "1     /30erzlzIOtOK3k3T3BAl1GiVMP1.jpg         8.7               6122  2008   \n",
       "2     /f496cm9enuEsZkSPzCwnTESEK5s.jpg         8.2               3353  1994   \n",
       "3     /g3nzhHBDTrJ7RWhzozFTYFjvRbd.jpg         8.6               6780  2016   \n",
       "4     /7WTsnHkbA0FaG6R9twfFde0I9hl.jpg         8.4               2626  2010   \n",
       "...                                ...         ...                ...   ...   \n",
       "996   /loXl5jZ5X0Q5sxZwqjkjQQS0Jll.jpg         8.1                189     0   \n",
       "997   /ltLshA9CpddtLTHhcGQ7lGGM7uZ.jpg         8.1               4409     0   \n",
       "998   /77OM9jMJ8nglaolHLwrAW7kvadV.jpg         8.1                537     0   \n",
       "999   /yMeyZHAlakxTRGJT0hp96Zz2Xfw.jpg         8.1               1425     0   \n",
       "1000  /pmjYMCnSwndlEpiFZhhOWSWmUsu.jpg         7.4                130     0   \n",
       "\n",
       "      NOTA IMDB  CONTAGEM DE VOTOS IMDB  MELHORES SERIES  \n",
       "0           9.2               1738802.0                1  \n",
       "1           9.4               1430288.0                1  \n",
       "2           8.8                808056.0                1  \n",
       "3           8.7                797234.0                1  \n",
       "4           9.0                794217.0                1  \n",
       "...         ...                     ...              ...  \n",
       "996         8.2                  5000.0                1  \n",
       "997         8.2                  5000.0                1  \n",
       "998         8.2                  5000.0                1  \n",
       "999         8.2                  5000.0                1  \n",
       "1000        8.0                  5000.0                0  \n",
       "\n",
       "[1001 rows x 14 columns]"
      ]
     },
     "execution_count": 27,
     "metadata": {},
     "output_type": "execute_result"
    }
   ],
   "source": [
    "teste"
   ]
  },
  {
   "cell_type": "code",
   "execution_count": 25,
   "metadata": {
    "ExecuteTime": {
     "end_time": "2020-12-18T06:01:05.058834Z",
     "start_time": "2020-12-18T06:01:05.009864Z"
    }
   },
   "outputs": [],
   "source": [
    "teste.to_csv('data/teste.csv', index=False)"
   ]
  },
  {
   "cell_type": "code",
   "execution_count": 26,
   "metadata": {
    "ExecuteTime": {
     "end_time": "2020-12-18T06:01:08.850829Z",
     "start_time": "2020-12-18T06:01:08.825848Z"
    }
   },
   "outputs": [],
   "source": [
    "teste = pd.read_csv('data/teste.csv')"
   ]
  },
  {
   "cell_type": "code",
   "execution_count": 17,
   "metadata": {
    "ExecuteTime": {
     "end_time": "2020-12-18T05:59:29.495117Z",
     "start_time": "2020-12-18T05:59:27.484400Z"
    }
   },
   "outputs": [
    {
     "data": {
      "image/png": "[encoded data removed]",
      "text/plain": [
       "<Figure size 1800x1080 with 2 Axes>"
      ]
     },
     "metadata": {},
     "output_type": "display_data"
    }
   ],
   "source": [
    "plt.figure(figsize=(25, 15))\n",
    "sns.heatmap(teste.corr(), annot=True, square=True);\n"
   ]
  },
  {
   "cell_type": "code",
   "execution_count": 28,
   "metadata": {
    "ExecuteTime": {
     "end_time": "2020-12-18T06:01:22.796859Z",
     "start_time": "2020-12-18T06:01:22.776873Z"
    }
   },
   "outputs": [],
   "source": [
    "# Criando as variáveis de treino\n",
    "X = teste[['POPULARIDADE', 'CONTAGEM DE VOTOS', 'NOTA IMDB', 'CONTAGEM DE VOTOS IMDB']]\n",
    "y = teste['MELHORES SERIES']\n",
    "X_train, X_test, y_train, y_test = train_test_split(X, y, test_size=0.2, random_state=20)"
   ]
  },
  {
   "cell_type": "code",
   "execution_count": 19,
   "metadata": {
    "ExecuteTime": {
     "end_time": "2020-12-18T05:59:43.870876Z",
     "start_time": "2020-12-18T05:59:43.859883Z"
    }
   },
   "outputs": [],
   "source": [
    "def pipe(list_model,dados,targets,dados_test,targets_test):\n",
    "    ds = pd.DataFrame(columns = [])\n",
    "    for model in list_model:\n",
    "        pipeline = Pipeline(steps=[('normal', StandardScaler()),('model', model)])\n",
    "        pipeline.fit(dados,targets)\n",
    "        pipeline.predict(dados_test)\n",
    "        #print(pipeline.predict(dados))\n",
    "        model_ds = pd.DataFrame({'model':[pipeline], 'score':pipeline.score(dados,targets), 'recall_score':recall_score(pipeline.predict(dados),targets), \n",
    "                                 'precision_score':precision_score(pipeline.predict(dados),targets), 'score_test':pipeline.score(dados_test,targets_test), 'recall_score_test':recall_score(pipeline.predict(dados_test),targets_test), \n",
    "                                 'precision_score_test':precision_score(pipeline.predict(dados_test),targets_test)})\n",
    "        ds = ds.append(model_ds)\n",
    "    ds = ds.reset_index(drop = True)\n",
    "    return ds"
   ]
  },
  {
   "cell_type": "code",
   "execution_count": null,
   "metadata": {
    "ExecuteTime": {
     "end_time": "2020-12-18T05:56:48.784188Z",
     "start_time": "2020-12-18T05:56:37.866Z"
    }
   },
   "outputs": [],
   "source": [
    "precision_score, recall_score, roc_auc_score, plot_roc_curve"
   ]
  },
  {
   "cell_type": "code",
   "execution_count": 29,
   "metadata": {
    "ExecuteTime": {
     "end_time": "2020-12-18T06:01:27.075618Z",
     "start_time": "2020-12-18T06:01:26.727840Z"
    }
   },
   "outputs": [
    {
     "name": "stdout",
     "output_type": "stream",
     "text": [
      "[LightGBM] [Warning] Unknown parameter: max_deph\n"
     ]
    },
    {
     "data": {
      "text/html": [
       "<div>\n",
       "<style scoped>\n",
       "    .dataframe tbody tr th:only-of-type {\n",
       "        vertical-align: middle;\n",
       "    }\n",
       "\n",
       "    .dataframe tbody tr th {\n",
       "        vertical-align: top;\n",
       "    }\n",
       "\n",
       "    .dataframe thead th {\n",
       "        text-align: right;\n",
       "    }\n",
       "</style>\n",
       "<table border=\"1\" class=\"dataframe\">\n",
       "  <thead>\n",
       "    <tr style=\"text-align: right;\">\n",
       "      <th></th>\n",
       "      <th>model</th>\n",
       "      <th>score</th>\n",
       "      <th>recall_score</th>\n",
       "      <th>precision_score</th>\n",
       "      <th>score_test</th>\n",
       "      <th>recall_score_test</th>\n",
       "      <th>precision_score_test</th>\n",
       "    </tr>\n",
       "  </thead>\n",
       "  <tbody>\n",
       "    <tr>\n",
       "      <th>0</th>\n",
       "      <td>(StandardScaler(), LogisticRegression())</td>\n",
       "      <td>0.90125</td>\n",
       "      <td>0.920918</td>\n",
       "      <td>0.882641</td>\n",
       "      <td>0.890547</td>\n",
       "      <td>0.914634</td>\n",
       "      <td>0.833333</td>\n",
       "    </tr>\n",
       "    <tr>\n",
       "      <th>1</th>\n",
       "      <td>(StandardScaler(), LGBMClassifier(max_deph=3, ...</td>\n",
       "      <td>0.94125</td>\n",
       "      <td>0.986559</td>\n",
       "      <td>0.897311</td>\n",
       "      <td>0.880597</td>\n",
       "      <td>0.945946</td>\n",
       "      <td>0.777778</td>\n",
       "    </tr>\n",
       "  </tbody>\n",
       "</table>\n",
       "</div>"
      ],
      "text/plain": [
       "                                               model    score  recall_score  \\\n",
       "0           (StandardScaler(), LogisticRegression())  0.90125      0.920918   \n",
       "1  (StandardScaler(), LGBMClassifier(max_deph=3, ...  0.94125      0.986559   \n",
       "\n",
       "   precision_score  score_test  recall_score_test  precision_score_test  \n",
       "0         0.882641    0.890547           0.914634              0.833333  \n",
       "1         0.897311    0.880597           0.945946              0.777778  "
      ]
     },
     "execution_count": 29,
     "metadata": {},
     "output_type": "execute_result"
    }
   ],
   "source": [
    "train = pipe([LogisticRegression(),LGBMClassifier(max_deph = 3, n_estimators = 50, n_jobs= 1, silent = True, metric='None')],X_train, y_train,X_test,y_test)\n",
    "train"
   ]
  },
  {
   "cell_type": "code",
   "execution_count": 30,
   "metadata": {
    "ExecuteTime": {
     "end_time": "2020-12-18T06:01:40.091043Z",
     "start_time": "2020-12-18T06:01:40.080051Z"
    }
   },
   "outputs": [],
   "source": [
    "pipeline = train['model'][0]\n",
    "pipeline_l = train['model'][1]   "
   ]
  },
  {
   "cell_type": "code",
   "execution_count": 31,
   "metadata": {
    "ExecuteTime": {
     "end_time": "2020-12-18T06:01:42.658874Z",
     "start_time": "2020-12-18T06:01:42.272555Z"
    }
   },
   "outputs": [
    {
     "data": {
      "image/png": "[encoded data removed]",
      "text/plain": [
       "<Figure size 576x576 with 1 Axes>"
      ]
     },
     "metadata": {},
     "output_type": "display_data"
    }
   ],
   "source": [
    "\n",
    "fig, ax = plt.subplots()\n",
    "\n",
    "plot_roc_curve(pipeline, X_train, y_train, name='Logistic train', ax=ax)\n",
    "plot_roc_curve(pipeline_l, X_train, y_train, name='LGBM train', ax=ax)\n",
    "plot_roc_curve(pipeline, X_test, y_test, name='Logistic test', ax=ax)\n",
    "plot_roc_curve(pipeline_l, X_test, y_test, name='LGBM test', ax=ax)\n",
    "\n",
    "plt.legend();"
   ]
  },
  {
   "cell_type": "code",
   "execution_count": 32,
   "metadata": {
    "ExecuteTime": {
     "end_time": "2020-12-18T06:01:54.435529Z",
     "start_time": "2020-12-18T06:01:54.143669Z"
    }
   },
   "outputs": [
    {
     "data": {
      "text/plain": [
       "<AxesSubplot:title={'center':'Feature importance'}, xlabel='Feature importance', ylabel='Features'>"
      ]
     },
     "execution_count": 32,
     "metadata": {},
     "output_type": "execute_result"
    },
    {
     "data": {
      "image/png": "[encoded data removed]",
      "text/plain": [
       "<Figure size 576x576 with 1 Axes>"
      ]
     },
     "metadata": {},
     "output_type": "display_data"
    }
   ],
   "source": [
    "plot_importance(pipeline_l['model'],)"
   ]
  },
  {
   "cell_type": "code",
   "execution_count": null,
   "metadata": {
    "ExecuteTime": {
     "end_time": "2020-12-18T05:56:48.799178Z",
     "start_time": "2020-12-18T05:56:37.898Z"
    }
   },
   "outputs": [],
   "source": [
    "pipeline_l['model'].feature_importances_"
   ]
  },
  {
   "cell_type": "code",
   "execution_count": null,
   "metadata": {
    "ExecuteTime": {
     "end_time": "2020-12-18T05:56:48.801177Z",
     "start_time": "2020-12-18T05:56:37.904Z"
    }
   },
   "outputs": [],
   "source": [
    "ns =[]\n",
    "for i,j in zip(netflix['VOTO MÉDIO'],netflix['NOTA IMDB']):\n",
    "    if i >= 8.2:        \n",
    "        ns.append(1)\n",
    "    else:\n",
    "        ns.append(0)"
   ]
  },
  {
   "cell_type": "code",
   "execution_count": null,
   "metadata": {
    "ExecuteTime": {
     "end_time": "2020-12-18T05:56:48.803176Z",
     "start_time": "2020-12-18T05:56:37.910Z"
    }
   },
   "outputs": [],
   "source": [
    "netflix = netflix.rename({'MELHORES SÉRIES':'MELHORES SERIES'})"
   ]
  },
  {
   "cell_type": "code",
   "execution_count": null,
   "metadata": {
    "ExecuteTime": {
     "end_time": "2020-12-18T05:56:48.805175Z",
     "start_time": "2020-12-18T05:56:37.917Z"
    }
   },
   "outputs": [],
   "source": [
    "netflix[['NOTA IMDB', 'CONTAGEM DE VOTOS IMDB']] = netflix[['NOTA IMDB', 'CONTAGEM DE VOTOS IMDB']].astype(float)"
   ]
  },
  {
   "cell_type": "code",
   "execution_count": null,
   "metadata": {
    "ExecuteTime": {
     "end_time": "2020-12-18T05:56:48.808172Z",
     "start_time": "2020-12-18T05:56:37.923Z"
    }
   },
   "outputs": [],
   "source": [
    "netflix.info()"
   ]
  },
  {
   "cell_type": "code",
   "execution_count": 57,
   "metadata": {
    "ExecuteTime": {
     "end_time": "2020-12-18T06:16:15.915459Z",
     "start_time": "2020-12-18T06:16:15.905467Z"
    }
   },
   "outputs": [],
   "source": [
    "X_a = netflix[['POPULARIDADE','CONTAGEM DE VOTOS','NOTA IMDB_y','CONTAGEM DE VOTOS IMDB_x']]\n",
    "y_a = netflix['MELHORES SERIES']"
   ]
  },
  {
   "cell_type": "code",
   "execution_count": 58,
   "metadata": {
    "ExecuteTime": {
     "end_time": "2020-12-18T06:16:19.147555Z",
     "start_time": "2020-12-18T06:16:19.131563Z"
    }
   },
   "outputs": [
    {
     "data": {
      "text/plain": [
       "0.92"
      ]
     },
     "execution_count": 58,
     "metadata": {},
     "output_type": "execute_result"
    }
   ],
   "source": [
    "pipeline_l.score(X_a,y_a)"
   ]
  },
  {
   "cell_type": "code",
   "execution_count": 78,
   "metadata": {
    "ExecuteTime": {
     "end_time": "2020-12-18T06:39:44.543209Z",
     "start_time": "2020-12-18T06:39:43.864615Z"
    }
   },
   "outputs": [
    {
     "name": "stdout",
     "output_type": "stream",
     "text": [
      "Normalized confusion matrix\n",
      "[[0.80769231 0.19230769]\n",
      " [0.05050505 0.94949495]]\n"
     ]
    },
    {
     "data": {
      "image/png": "[encoded data removed]",
      "text/plain": [
       "<Figure size 576x576 with 2 Axes>"
      ]
     },
     "metadata": {},
     "output_type": "display_data"
    },
    {
     "data": {
      "image/png": "[encoded data removed]",
      "text/plain": [
       "<Figure size 576x576 with 2 Axes>"
      ]
     },
     "metadata": {},
     "output_type": "display_data"
    }
   ],
   "source": [
    "titles_options = [(\"Confusion matrix, without normalization\", None),\n",
    "                  (\"Normalized confusion matrix\", 'true')]\n",
    "for title, normalize in titles_options:\n",
    "    disp = plot_confusion_matrix(pipeline_l,X_a,y_a,\n",
    "                                 cmap=plt.cm.gist_gray,\n",
    "                                 normalize=normalize)\n",
    "  \n",
    "disp.ax_.set_title(title)\n",
    "\n",
    "print(title)\n",
    "print(disp.confusion_matrix)\n",
    "plt.show()"
   ]
  },
  {
   "cell_type": "code",
   "execution_count": null,
   "metadata": {
    "ExecuteTime": {
     "end_time": "2020-12-18T05:56:48.816167Z",
     "start_time": "2020-12-18T05:56:37.943Z"
    }
   },
   "outputs": [],
   "source": [
    "pipeline_l"
   ]
  },
  {
   "cell_type": "code",
   "execution_count": 35,
   "metadata": {
    "ExecuteTime": {
     "end_time": "2020-12-18T06:03:01.881984Z",
     "start_time": "2020-12-18T06:03:01.869992Z"
    }
   },
   "outputs": [],
   "source": [
    "netflix = pd.read_csv('data/netflix.csv')"
   ]
  },
  {
   "cell_type": "code",
   "execution_count": 36,
   "metadata": {
    "ExecuteTime": {
     "end_time": "2020-12-18T06:03:13.783642Z",
     "start_time": "2020-12-18T06:03:13.714686Z"
    }
   },
   "outputs": [
    {
     "data": {
      "text/html": [
       "<div>\n",
       "<style scoped>\n",
       "    .dataframe tbody tr th:only-of-type {\n",
       "        vertical-align: middle;\n",
       "    }\n",
       "\n",
       "    .dataframe tbody tr th {\n",
       "        vertical-align: top;\n",
       "    }\n",
       "\n",
       "    .dataframe thead th {\n",
       "        text-align: right;\n",
       "    }\n",
       "</style>\n",
       "<table border=\"1\" class=\"dataframe\">\n",
       "  <thead>\n",
       "    <tr style=\"text-align: right;\">\n",
       "      <th></th>\n",
       "      <th>NOME</th>\n",
       "      <th>DATA DE ESTREIA</th>\n",
       "      <th>ID</th>\n",
       "      <th>PAÍS DE ORIGEM</th>\n",
       "      <th>LINGUA DE ORIGEM</th>\n",
       "      <th>NOME ORIGINAL</th>\n",
       "      <th>RESUMO</th>\n",
       "      <th>POPULARIDADE</th>\n",
       "      <th>POSTER</th>\n",
       "      <th>VOTO MÉDIO</th>\n",
       "      <th>CONTAGEM DE VOTOS</th>\n",
       "      <th>ANO</th>\n",
       "      <th>NOTA IMDB</th>\n",
       "      <th>CONTAGEM DE VOTOS IMDB</th>\n",
       "      <th>NOTA PREVISTA</th>\n",
       "    </tr>\n",
       "  </thead>\n",
       "  <tbody>\n",
       "    <tr>\n",
       "      <th>0</th>\n",
       "      <td>Anne with an E</td>\n",
       "      <td>2017-03-19</td>\n",
       "      <td>70785.0</td>\n",
       "      <td>['CA']</td>\n",
       "      <td>en</td>\n",
       "      <td>Anne with an E</td>\n",
       "      <td>O mundo de Green Gables que Anne tanto adora s...</td>\n",
       "      <td>111.048</td>\n",
       "      <td>/xWdSSB1La6FcXZUuuwvcqvB6Kdf.jpg</td>\n",
       "      <td>8.8</td>\n",
       "      <td>2781.0</td>\n",
       "      <td>2017</td>\n",
       "      <td>8.6</td>\n",
       "      <td>34913.0</td>\n",
       "      <td>8.2</td>\n",
       "    </tr>\n",
       "    <tr>\n",
       "      <th>1</th>\n",
       "      <td>Rick &amp; Morty</td>\n",
       "      <td>2013-12-02</td>\n",
       "      <td>60625.0</td>\n",
       "      <td>['US']</td>\n",
       "      <td>en</td>\n",
       "      <td>Rick and Morty</td>\n",
       "      <td>Rick é um velho mentalmente desequilibrado, ma...</td>\n",
       "      <td>227.251</td>\n",
       "      <td>/8kOWDBK6XlPUzckuHDo3wwVRFwt.jpg</td>\n",
       "      <td>8.7</td>\n",
       "      <td>3699.0</td>\n",
       "      <td>2013</td>\n",
       "      <td>9.2</td>\n",
       "      <td>365508.0</td>\n",
       "      <td>8.9</td>\n",
       "    </tr>\n",
       "    <tr>\n",
       "      <th>2</th>\n",
       "      <td>O Gambito da Rainha</td>\n",
       "      <td>2020-10-23</td>\n",
       "      <td>87739.0</td>\n",
       "      <td>['US']</td>\n",
       "      <td>en</td>\n",
       "      <td>The Queen's Gambit</td>\n",
       "      <td>Durante a Guerra Fria, em um orfanato do Kentu...</td>\n",
       "      <td>449.859</td>\n",
       "      <td>/ubWpLTkwcms5PfZJMFZkNXVYXqJ.jpg</td>\n",
       "      <td>8.7</td>\n",
       "      <td>872.0</td>\n",
       "      <td>2020</td>\n",
       "      <td>8.7</td>\n",
       "      <td>162797.0</td>\n",
       "      <td>8.1</td>\n",
       "    </tr>\n",
       "    <tr>\n",
       "      <th>3</th>\n",
       "      <td>Breaking Bad: A Química do Mal</td>\n",
       "      <td>2008-01-20</td>\n",
       "      <td>1396.0</td>\n",
       "      <td>['US']</td>\n",
       "      <td>en</td>\n",
       "      <td>Breaking Bad</td>\n",
       "      <td>Ao saber que tem câncer, um professor passa a ...</td>\n",
       "      <td>203.975</td>\n",
       "      <td>/30erzlzIOtOK3k3T3BAl1GiVMP1.jpg</td>\n",
       "      <td>8.7</td>\n",
       "      <td>6115.0</td>\n",
       "      <td>2008</td>\n",
       "      <td>9.4</td>\n",
       "      <td>1430288.0</td>\n",
       "      <td>9.0</td>\n",
       "    </tr>\n",
       "    <tr>\n",
       "      <th>4</th>\n",
       "      <td>Peaky Blinders: Sangue, Apostas e Navalhas</td>\n",
       "      <td>2013-09-12</td>\n",
       "      <td>60574.0</td>\n",
       "      <td>['GB']</td>\n",
       "      <td>en</td>\n",
       "      <td>Peaky Blinders</td>\n",
       "      <td>Thomas Shelby e seus irmãos retornam a Birming...</td>\n",
       "      <td>118.224</td>\n",
       "      <td>/i0uajcHH9yogXMfDHpOXexIukG9.jpg</td>\n",
       "      <td>8.6</td>\n",
       "      <td>1690.0</td>\n",
       "      <td>2013</td>\n",
       "      <td>8.7</td>\n",
       "      <td>329685.0</td>\n",
       "      <td>8.6</td>\n",
       "    </tr>\n",
       "    <tr>\n",
       "      <th>...</th>\n",
       "      <td>...</td>\n",
       "      <td>...</td>\n",
       "      <td>...</td>\n",
       "      <td>...</td>\n",
       "      <td>...</td>\n",
       "      <td>...</td>\n",
       "      <td>...</td>\n",
       "      <td>...</td>\n",
       "      <td>...</td>\n",
       "      <td>...</td>\n",
       "      <td>...</td>\n",
       "      <td>...</td>\n",
       "      <td>...</td>\n",
       "      <td>...</td>\n",
       "      <td>...</td>\n",
       "    </tr>\n",
       "    <tr>\n",
       "      <th>61</th>\n",
       "      <td>Vikings</td>\n",
       "      <td>2013-03-03</td>\n",
       "      <td>44217.0</td>\n",
       "      <td>['CA']</td>\n",
       "      <td>en</td>\n",
       "      <td>Vikings</td>\n",
       "      <td>Ragnar Lothbrok, um jovem que se considera des...</td>\n",
       "      <td>254.826</td>\n",
       "      <td>/oktTNFM8PzdseiK1X0E0XhB6LvP.jpg</td>\n",
       "      <td>7.9</td>\n",
       "      <td>3502.0</td>\n",
       "      <td>2013</td>\n",
       "      <td>8.4</td>\n",
       "      <td>415719.0</td>\n",
       "      <td>7.5</td>\n",
       "    </tr>\n",
       "    <tr>\n",
       "      <th>62</th>\n",
       "      <td>Mindhunter</td>\n",
       "      <td>2017-10-13</td>\n",
       "      <td>67744.0</td>\n",
       "      <td>['US']</td>\n",
       "      <td>en</td>\n",
       "      <td>Mindhunter</td>\n",
       "      <td>Um agente da Unidade de Crimes em Série do FBI...</td>\n",
       "      <td>46.726</td>\n",
       "      <td>/fbKE87mojpIETWepSbD5Qt741fp.jpg</td>\n",
       "      <td>7.9</td>\n",
       "      <td>1016.0</td>\n",
       "      <td>2017</td>\n",
       "      <td>8.6</td>\n",
       "      <td>208883.0</td>\n",
       "      <td>7.6</td>\n",
       "    </tr>\n",
       "    <tr>\n",
       "      <th>63</th>\n",
       "      <td>Spartacus</td>\n",
       "      <td>2010-01-22</td>\n",
       "      <td>46296.0</td>\n",
       "      <td>['US']</td>\n",
       "      <td>en</td>\n",
       "      <td>Spartacus</td>\n",
       "      <td>Traído pelos romanos, forçado à escravidão e r...</td>\n",
       "      <td>97.161</td>\n",
       "      <td>/kAUI0oOWZbGAQMmv7WM6scvoE34.jpg</td>\n",
       "      <td>7.9</td>\n",
       "      <td>1185.0</td>\n",
       "      <td>2010</td>\n",
       "      <td>8.5</td>\n",
       "      <td>221021.0</td>\n",
       "      <td>7.5</td>\n",
       "    </tr>\n",
       "    <tr>\n",
       "      <th>64</th>\n",
       "      <td>Making a Murderer</td>\n",
       "      <td>2015-12-18</td>\n",
       "      <td>64439.0</td>\n",
       "      <td>['US']</td>\n",
       "      <td>en</td>\n",
       "      <td>Making a Murderer</td>\n",
       "      <td>Cada vez mais investindo nas suas produções do...</td>\n",
       "      <td>8.915</td>\n",
       "      <td>/mCkAZqTIZ4udXFWUcU93cbWS71k.jpg</td>\n",
       "      <td>7.8</td>\n",
       "      <td>276.0</td>\n",
       "      <td>2015</td>\n",
       "      <td>8.5</td>\n",
       "      <td>85679.0</td>\n",
       "      <td>7.5</td>\n",
       "    </tr>\n",
       "    <tr>\n",
       "      <th>65</th>\n",
       "      <td>Atlanta</td>\n",
       "      <td>2016-09-06</td>\n",
       "      <td>65495.0</td>\n",
       "      <td>['US']</td>\n",
       "      <td>en</td>\n",
       "      <td>Atlanta</td>\n",
       "      <td>Earnest Marks, mais conhecido como Earn, um jo...</td>\n",
       "      <td>24.832</td>\n",
       "      <td>/lXMmcrGK5QL7Xc1SjmzutIQoA1I.jpg</td>\n",
       "      <td>7.8</td>\n",
       "      <td>284.0</td>\n",
       "      <td>2016</td>\n",
       "      <td>8.6</td>\n",
       "      <td>50450.0</td>\n",
       "      <td>7.6</td>\n",
       "    </tr>\n",
       "  </tbody>\n",
       "</table>\n",
       "<p>66 rows × 15 columns</p>\n",
       "</div>"
      ],
      "text/plain": [
       "                                          NOME DATA DE ESTREIA       ID  \\\n",
       "0                               Anne with an E      2017-03-19  70785.0   \n",
       "1                                 Rick & Morty      2013-12-02  60625.0   \n",
       "2                          O Gambito da Rainha      2020-10-23  87739.0   \n",
       "3               Breaking Bad: A Química do Mal      2008-01-20   1396.0   \n",
       "4   Peaky Blinders: Sangue, Apostas e Navalhas      2013-09-12  60574.0   \n",
       "..                                         ...             ...      ...   \n",
       "61                                     Vikings      2013-03-03  44217.0   \n",
       "62                                  Mindhunter      2017-10-13  67744.0   \n",
       "63                                   Spartacus      2010-01-22  46296.0   \n",
       "64                           Making a Murderer      2015-12-18  64439.0   \n",
       "65                                     Atlanta      2016-09-06  65495.0   \n",
       "\n",
       "   PAÍS DE ORIGEM LINGUA DE ORIGEM       NOME ORIGINAL  \\\n",
       "0          ['CA']               en      Anne with an E   \n",
       "1          ['US']               en      Rick and Morty   \n",
       "2          ['US']               en  The Queen's Gambit   \n",
       "3          ['US']               en        Breaking Bad   \n",
       "4          ['GB']               en      Peaky Blinders   \n",
       "..            ...              ...                 ...   \n",
       "61         ['CA']               en             Vikings   \n",
       "62         ['US']               en          Mindhunter   \n",
       "63         ['US']               en           Spartacus   \n",
       "64         ['US']               en   Making a Murderer   \n",
       "65         ['US']               en             Atlanta   \n",
       "\n",
       "                                               RESUMO  POPULARIDADE  \\\n",
       "0   O mundo de Green Gables que Anne tanto adora s...       111.048   \n",
       "1   Rick é um velho mentalmente desequilibrado, ma...       227.251   \n",
       "2   Durante a Guerra Fria, em um orfanato do Kentu...       449.859   \n",
       "3   Ao saber que tem câncer, um professor passa a ...       203.975   \n",
       "4   Thomas Shelby e seus irmãos retornam a Birming...       118.224   \n",
       "..                                                ...           ...   \n",
       "61  Ragnar Lothbrok, um jovem que se considera des...       254.826   \n",
       "62  Um agente da Unidade de Crimes em Série do FBI...        46.726   \n",
       "63  Traído pelos romanos, forçado à escravidão e r...        97.161   \n",
       "64  Cada vez mais investindo nas suas produções do...         8.915   \n",
       "65  Earnest Marks, mais conhecido como Earn, um jo...        24.832   \n",
       "\n",
       "                              POSTER  VOTO MÉDIO  CONTAGEM DE VOTOS   ANO  \\\n",
       "0   /xWdSSB1La6FcXZUuuwvcqvB6Kdf.jpg         8.8             2781.0  2017   \n",
       "1   /8kOWDBK6XlPUzckuHDo3wwVRFwt.jpg         8.7             3699.0  2013   \n",
       "2   /ubWpLTkwcms5PfZJMFZkNXVYXqJ.jpg         8.7              872.0  2020   \n",
       "3   /30erzlzIOtOK3k3T3BAl1GiVMP1.jpg         8.7             6115.0  2008   \n",
       "4   /i0uajcHH9yogXMfDHpOXexIukG9.jpg         8.6             1690.0  2013   \n",
       "..                               ...         ...                ...   ...   \n",
       "61  /oktTNFM8PzdseiK1X0E0XhB6LvP.jpg         7.9             3502.0  2013   \n",
       "62  /fbKE87mojpIETWepSbD5Qt741fp.jpg         7.9             1016.0  2017   \n",
       "63  /kAUI0oOWZbGAQMmv7WM6scvoE34.jpg         7.9             1185.0  2010   \n",
       "64  /mCkAZqTIZ4udXFWUcU93cbWS71k.jpg         7.8              276.0  2015   \n",
       "65  /lXMmcrGK5QL7Xc1SjmzutIQoA1I.jpg         7.8              284.0  2016   \n",
       "\n",
       "    NOTA IMDB  CONTAGEM DE VOTOS IMDB  NOTA PREVISTA  \n",
       "0         8.6                 34913.0            8.2  \n",
       "1         9.2                365508.0            8.9  \n",
       "2         8.7                162797.0            8.1  \n",
       "3         9.4               1430288.0            9.0  \n",
       "4         8.7                329685.0            8.6  \n",
       "..        ...                     ...            ...  \n",
       "61        8.4                415719.0            7.5  \n",
       "62        8.6                208883.0            7.6  \n",
       "63        8.5                221021.0            7.5  \n",
       "64        8.5                 85679.0            7.5  \n",
       "65        8.6                 50450.0            7.6  \n",
       "\n",
       "[66 rows x 15 columns]"
      ]
     },
     "execution_count": 36,
     "metadata": {},
     "output_type": "execute_result"
    }
   ],
   "source": [
    "netflix"
   ]
  },
  {
   "cell_type": "code",
   "execution_count": null,
   "metadata": {
    "ExecuteTime": {
     "end_time": "2020-12-18T05:56:48.820165Z",
     "start_time": "2020-12-18T05:56:37.955Z"
    }
   },
   "outputs": [],
   "source": [
    "mp =[]\n",
    "for i in range(66):\n",
    "    mp.append(pipeline_l.predict_proba(X_a)[i][1]*10)\n",
    "    "
   ]
  },
  {
   "cell_type": "code",
   "execution_count": null,
   "metadata": {
    "ExecuteTime": {
     "end_time": "2020-12-18T05:56:48.822163Z",
     "start_time": "2020-12-18T05:56:37.958Z"
    },
    "cell_style": "center"
   },
   "outputs": [],
   "source": [
    "for i in range(66):\n",
    "    if mp[i] < 7:\n",
    "        mp[i]=7\n",
    "    elif mp[i] > 9:\n",
    "        mp[i] =9"
   ]
  },
  {
   "cell_type": "code",
   "execution_count": null,
   "metadata": {
    "ExecuteTime": {
     "end_time": "2020-12-18T05:56:48.824163Z",
     "start_time": "2020-12-18T05:56:37.962Z"
    }
   },
   "outputs": [],
   "source": [
    "nota = list(netflix['NOTA IMDB'])"
   ]
  },
  {
   "cell_type": "code",
   "execution_count": null,
   "metadata": {
    "ExecuteTime": {
     "end_time": "2020-12-18T05:56:48.826160Z",
     "start_time": "2020-12-18T05:56:37.968Z"
    }
   },
   "outputs": [],
   "source": [
    "nota_pre = []\n",
    "for i, j in zip(mp, nota):\n",
    "    nota_pre.append(round(((i + (j*.95))/2),1))"
   ]
  },
  {
   "cell_type": "code",
   "execution_count": null,
   "metadata": {
    "ExecuteTime": {
     "end_time": "2020-12-18T05:56:48.828159Z",
     "start_time": "2020-12-18T05:56:37.973Z"
    },
    "cell_style": "center"
   },
   "outputs": [],
   "source": [
    "medio = list(netflix['VOTO MÉDIO'])"
   ]
  },
  {
   "cell_type": "code",
   "execution_count": null,
   "metadata": {
    "ExecuteTime": {
     "end_time": "2020-12-18T05:56:48.833157Z",
     "start_time": "2020-12-18T05:56:37.977Z"
    }
   },
   "outputs": [],
   "source": [
    "netflix['NOTA PREVISTA'] = nota_pre"
   ]
  },
  {
   "cell_type": "code",
   "execution_count": null,
   "metadata": {
    "ExecuteTime": {
     "end_time": "2020-12-18T05:56:48.836154Z",
     "start_time": "2020-12-18T05:56:37.982Z"
    }
   },
   "outputs": [],
   "source": [
    "netflix = netflix.drop(['MELHORES SÉRIES'], axis =1)"
   ]
  },
  {
   "cell_type": "code",
   "execution_count": 12,
   "metadata": {
    "ExecuteTime": {
     "end_time": "2020-12-18T05:56:59.254026Z",
     "start_time": "2020-12-18T05:56:59.233043Z"
    }
   },
   "outputs": [
    {
     "ename": "NameError",
     "evalue": "name 'netflix' is not defined",
     "output_type": "error",
     "traceback": [
      "\u001b[1;31m---------------------------------------------------------------------------\u001b[0m",
      "\u001b[1;31mNameError\u001b[0m                                 Traceback (most recent call last)",
      "\u001b[1;32m<ipython-input-12-489a83919294>\u001b[0m in \u001b[0;36m<module>\u001b[1;34m\u001b[0m\n\u001b[1;32m----> 1\u001b[1;33m \u001b[0mnetflix\u001b[0m\u001b[1;33m\u001b[0m\u001b[1;33m\u001b[0m\u001b[0m\n\u001b[0m",
      "\u001b[1;31mNameError\u001b[0m: name 'netflix' is not defined"
     ]
    }
   ],
   "source": [
    "netflix"
   ]
  },
  {
   "cell_type": "code",
   "execution_count": null,
   "metadata": {
    "ExecuteTime": {
     "end_time": "2020-12-18T05:56:48.841151Z",
     "start_time": "2020-12-18T05:56:37.994Z"
    }
   },
   "outputs": [],
   "source": [
    "netflix.to_csv('data/netflix.csv', index=False)"
   ]
  },
  {
   "cell_type": "code",
   "execution_count": 38,
   "metadata": {
    "ExecuteTime": {
     "end_time": "2020-12-18T06:06:33.400557Z",
     "start_time": "2020-12-18T06:06:33.387566Z"
    },
    "cell_style": "split"
   },
   "outputs": [],
   "source": [
    "df_1 = pd.read_csv('data/imdb.csv')"
   ]
  },
  {
   "cell_type": "code",
   "execution_count": null,
   "metadata": {
    "ExecuteTime": {
     "end_time": "2020-12-18T05:56:48.845148Z",
     "start_time": "2020-12-18T05:56:38.005Z"
    },
    "cell_style": "split"
   },
   "outputs": [],
   "source": [
    "series"
   ]
  },
  {
   "cell_type": "code",
   "execution_count": null,
   "metadata": {
    "ExecuteTime": {
     "end_time": "2020-12-18T05:56:48.847147Z",
     "start_time": "2020-12-18T05:56:38.008Z"
    }
   },
   "outputs": [],
   "source": [
    "netflix_1 = series.merge(df_1, on=['NOME ORIGINAL'], how='left').fillna(0)"
   ]
  },
  {
   "cell_type": "code",
   "execution_count": null,
   "metadata": {
    "ExecuteTime": {
     "end_time": "2020-12-18T05:56:48.862138Z",
     "start_time": "2020-12-18T05:56:38.012Z"
    }
   },
   "outputs": [],
   "source": [
    "netflix_1"
   ]
  },
  {
   "cell_type": "code",
   "execution_count": null,
   "metadata": {
    "ExecuteTime": {
     "end_time": "2020-12-18T05:56:48.871132Z",
     "start_time": "2020-12-18T05:56:38.020Z"
    }
   },
   "outputs": [],
   "source": [
    "df"
   ]
  },
  {
   "cell_type": "code",
   "execution_count": 52,
   "metadata": {
    "ExecuteTime": {
     "end_time": "2020-12-18T06:13:33.701761Z",
     "start_time": "2020-12-18T06:13:33.678776Z"
    }
   },
   "outputs": [],
   "source": [
    "netflix = teste.merge(df_1, on=['NOME ORIGINAL'], how='left').dropna().drop_duplicates()"
   ]
  },
  {
   "cell_type": "code",
   "execution_count": 43,
   "metadata": {
    "ExecuteTime": {
     "end_time": "2020-12-18T06:09:43.848107Z",
     "start_time": "2020-12-18T06:09:43.822128Z"
    }
   },
   "outputs": [],
   "source": [
    "series = pd.read_csv('data/series.csv')"
   ]
  },
  {
   "cell_type": "code",
   "execution_count": 54,
   "metadata": {
    "ExecuteTime": {
     "end_time": "2020-12-18T06:13:49.643177Z",
     "start_time": "2020-12-18T06:13:49.591210Z"
    }
   },
   "outputs": [
    {
     "data": {
      "text/html": [
       "<div>\n",
       "<style scoped>\n",
       "    .dataframe tbody tr th:only-of-type {\n",
       "        vertical-align: middle;\n",
       "    }\n",
       "\n",
       "    .dataframe tbody tr th {\n",
       "        vertical-align: top;\n",
       "    }\n",
       "\n",
       "    .dataframe thead th {\n",
       "        text-align: right;\n",
       "    }\n",
       "</style>\n",
       "<table border=\"1\" class=\"dataframe\">\n",
       "  <thead>\n",
       "    <tr style=\"text-align: right;\">\n",
       "      <th></th>\n",
       "      <th>ID</th>\n",
       "      <th>NOME</th>\n",
       "      <th>PAÍS DE ORIGEM</th>\n",
       "      <th>LINGUA DE ORIGEM</th>\n",
       "      <th>NOME ORIGINAL</th>\n",
       "      <th>RESUMO</th>\n",
       "      <th>POPULARIDADE</th>\n",
       "      <th>POSTER</th>\n",
       "      <th>VOTO MÉDIO</th>\n",
       "      <th>CONTAGEM DE VOTOS</th>\n",
       "      <th>ANO_x</th>\n",
       "      <th>NOTA IMDB_x</th>\n",
       "      <th>CONTAGEM DE VOTOS IMDB_x</th>\n",
       "      <th>MELHORES SERIES</th>\n",
       "      <th>ANO_y</th>\n",
       "      <th>NOTA IMDB_y</th>\n",
       "      <th>CONTAGEM DE VOTOS IMDB_y</th>\n",
       "    </tr>\n",
       "  </thead>\n",
       "  <tbody>\n",
       "    <tr>\n",
       "      <th>0</th>\n",
       "      <td>1399</td>\n",
       "      <td>Game of Thrones</td>\n",
       "      <td>['US']</td>\n",
       "      <td>en</td>\n",
       "      <td>Game of Thrones</td>\n",
       "      <td>Em uma terra onde os verões podem durar vários...</td>\n",
       "      <td>321.874</td>\n",
       "      <td>/u3bZgnGQ9T01sWNhyveQz0wH0Hl.jpg</td>\n",
       "      <td>8.3</td>\n",
       "      <td>11839</td>\n",
       "      <td>2011</td>\n",
       "      <td>9.2</td>\n",
       "      <td>1738802.0</td>\n",
       "      <td>1</td>\n",
       "      <td>2011.0</td>\n",
       "      <td>9.2</td>\n",
       "      <td>1738802.0</td>\n",
       "    </tr>\n",
       "    <tr>\n",
       "      <th>1</th>\n",
       "      <td>1396</td>\n",
       "      <td>Breaking Bad: A Química do Mal</td>\n",
       "      <td>['US']</td>\n",
       "      <td>en</td>\n",
       "      <td>Breaking Bad</td>\n",
       "      <td>Ao saber que tem câncer, um professor passa a ...</td>\n",
       "      <td>204.841</td>\n",
       "      <td>/30erzlzIOtOK3k3T3BAl1GiVMP1.jpg</td>\n",
       "      <td>8.7</td>\n",
       "      <td>6122</td>\n",
       "      <td>2008</td>\n",
       "      <td>9.4</td>\n",
       "      <td>1430288.0</td>\n",
       "      <td>1</td>\n",
       "      <td>2008.0</td>\n",
       "      <td>9.4</td>\n",
       "      <td>1430288.0</td>\n",
       "    </tr>\n",
       "    <tr>\n",
       "      <th>2</th>\n",
       "      <td>1668</td>\n",
       "      <td>Friends</td>\n",
       "      <td>['US']</td>\n",
       "      <td>en</td>\n",
       "      <td>Friends</td>\n",
       "      <td>Seis jovens são unidos por laços familiares, r...</td>\n",
       "      <td>139.818</td>\n",
       "      <td>/f496cm9enuEsZkSPzCwnTESEK5s.jpg</td>\n",
       "      <td>8.2</td>\n",
       "      <td>3353</td>\n",
       "      <td>1994</td>\n",
       "      <td>8.8</td>\n",
       "      <td>808056.0</td>\n",
       "      <td>1</td>\n",
       "      <td>1994.0</td>\n",
       "      <td>8.8</td>\n",
       "      <td>808056.0</td>\n",
       "    </tr>\n",
       "    <tr>\n",
       "      <th>3</th>\n",
       "      <td>66732</td>\n",
       "      <td>Stranger Things</td>\n",
       "      <td>['US']</td>\n",
       "      <td>en</td>\n",
       "      <td>Stranger Things</td>\n",
       "      <td>Quando um garoto desaparece, a cidade toda par...</td>\n",
       "      <td>196.204</td>\n",
       "      <td>/g3nzhHBDTrJ7RWhzozFTYFjvRbd.jpg</td>\n",
       "      <td>8.6</td>\n",
       "      <td>6780</td>\n",
       "      <td>2016</td>\n",
       "      <td>8.7</td>\n",
       "      <td>797234.0</td>\n",
       "      <td>1</td>\n",
       "      <td>2016.0</td>\n",
       "      <td>8.7</td>\n",
       "      <td>797234.0</td>\n",
       "    </tr>\n",
       "    <tr>\n",
       "      <th>4</th>\n",
       "      <td>19885</td>\n",
       "      <td>Sherlock</td>\n",
       "      <td>['GB']</td>\n",
       "      <td>en</td>\n",
       "      <td>Sherlock</td>\n",
       "      <td>Nesta versão moderna dos livros de Sir Arthur ...</td>\n",
       "      <td>63.367</td>\n",
       "      <td>/7WTsnHkbA0FaG6R9twfFde0I9hl.jpg</td>\n",
       "      <td>8.4</td>\n",
       "      <td>2626</td>\n",
       "      <td>2010</td>\n",
       "      <td>9.0</td>\n",
       "      <td>794217.0</td>\n",
       "      <td>1</td>\n",
       "      <td>2010.0</td>\n",
       "      <td>9.0</td>\n",
       "      <td>794217.0</td>\n",
       "    </tr>\n",
       "    <tr>\n",
       "      <th>...</th>\n",
       "      <td>...</td>\n",
       "      <td>...</td>\n",
       "      <td>...</td>\n",
       "      <td>...</td>\n",
       "      <td>...</td>\n",
       "      <td>...</td>\n",
       "      <td>...</td>\n",
       "      <td>...</td>\n",
       "      <td>...</td>\n",
       "      <td>...</td>\n",
       "      <td>...</td>\n",
       "      <td>...</td>\n",
       "      <td>...</td>\n",
       "      <td>...</td>\n",
       "      <td>...</td>\n",
       "      <td>...</td>\n",
       "      <td>...</td>\n",
       "    </tr>\n",
       "    <tr>\n",
       "      <th>145</th>\n",
       "      <td>44264</td>\n",
       "      <td>Endeavour</td>\n",
       "      <td>['GB']</td>\n",
       "      <td>en</td>\n",
       "      <td>Endeavour</td>\n",
       "      <td>Endeavour Morse acaba de abandonar a Universid...</td>\n",
       "      <td>24.999</td>\n",
       "      <td>/suX3F5e8XN9emrb52CQSwt2mRwx.jpg</td>\n",
       "      <td>8.0</td>\n",
       "      <td>114</td>\n",
       "      <td>2012</td>\n",
       "      <td>8.5</td>\n",
       "      <td>18207.0</td>\n",
       "      <td>1</td>\n",
       "      <td>2012.0</td>\n",
       "      <td>8.5</td>\n",
       "      <td>18207.0</td>\n",
       "    </tr>\n",
       "    <tr>\n",
       "      <th>146</th>\n",
       "      <td>5273</td>\n",
       "      <td>Alfred Hitchcock Apresenta</td>\n",
       "      <td>['US']</td>\n",
       "      <td>en</td>\n",
       "      <td>Alfred Hitchcock Presents</td>\n",
       "      <td>Junte-se ao lendário \"Mestre do Suspense\", Alf...</td>\n",
       "      <td>37.184</td>\n",
       "      <td>/sHzG8lDfn5wKiieBsh0Qg5DXWNQ.jpg</td>\n",
       "      <td>7.9</td>\n",
       "      <td>108</td>\n",
       "      <td>1955</td>\n",
       "      <td>8.5</td>\n",
       "      <td>14664.0</td>\n",
       "      <td>0</td>\n",
       "      <td>1955.0</td>\n",
       "      <td>8.5</td>\n",
       "      <td>14664.0</td>\n",
       "    </tr>\n",
       "    <tr>\n",
       "      <th>147</th>\n",
       "      <td>84200</td>\n",
       "      <td>Liga da Justiça Sem Limites</td>\n",
       "      <td>[]</td>\n",
       "      <td>en</td>\n",
       "      <td>Justice League Unlimited</td>\n",
       "      <td>Liga da Justiça Sem Limites é uma série de ani...</td>\n",
       "      <td>13.011</td>\n",
       "      <td>/vRRvCUREeqqnp3hHdqep83eQjdP.jpg</td>\n",
       "      <td>8.3</td>\n",
       "      <td>349</td>\n",
       "      <td>2004</td>\n",
       "      <td>8.7</td>\n",
       "      <td>10325.0</td>\n",
       "      <td>1</td>\n",
       "      <td>2004.0</td>\n",
       "      <td>8.7</td>\n",
       "      <td>10325.0</td>\n",
       "    </tr>\n",
       "    <tr>\n",
       "      <th>148</th>\n",
       "      <td>47</td>\n",
       "      <td>Chaves</td>\n",
       "      <td>['MX']</td>\n",
       "      <td>es</td>\n",
       "      <td>El Chavo del Ocho</td>\n",
       "      <td>Uma comédia que aborda as interações de um gru...</td>\n",
       "      <td>42.135</td>\n",
       "      <td>/8D8rR5UgZlhLZ5k3cnMNTtYA8Wn.jpg</td>\n",
       "      <td>7.7</td>\n",
       "      <td>769</td>\n",
       "      <td>1972</td>\n",
       "      <td>8.5</td>\n",
       "      <td>8548.0</td>\n",
       "      <td>0</td>\n",
       "      <td>1972.0</td>\n",
       "      <td>8.5</td>\n",
       "      <td>8548.0</td>\n",
       "    </tr>\n",
       "    <tr>\n",
       "      <th>149</th>\n",
       "      <td>89456</td>\n",
       "      <td>Genndy Tartakovsky's Primal</td>\n",
       "      <td>['US']</td>\n",
       "      <td>en</td>\n",
       "      <td>Primal</td>\n",
       "      <td>No início da evolução, um homem das cavernas e...</td>\n",
       "      <td>25.038</td>\n",
       "      <td>/9jIatSC61s5Y3d5Q63yIeZFvP7u.jpg</td>\n",
       "      <td>8.8</td>\n",
       "      <td>350</td>\n",
       "      <td>2019</td>\n",
       "      <td>8.6</td>\n",
       "      <td>5629.0</td>\n",
       "      <td>1</td>\n",
       "      <td>2019.0</td>\n",
       "      <td>8.6</td>\n",
       "      <td>5629.0</td>\n",
       "    </tr>\n",
       "  </tbody>\n",
       "</table>\n",
       "<p>125 rows × 17 columns</p>\n",
       "</div>"
      ],
      "text/plain": [
       "        ID                            NOME PAÍS DE ORIGEM LINGUA DE ORIGEM  \\\n",
       "0     1399                 Game of Thrones         ['US']               en   \n",
       "1     1396  Breaking Bad: A Química do Mal         ['US']               en   \n",
       "2     1668                         Friends         ['US']               en   \n",
       "3    66732                 Stranger Things         ['US']               en   \n",
       "4    19885                        Sherlock         ['GB']               en   \n",
       "..     ...                             ...            ...              ...   \n",
       "145  44264                       Endeavour         ['GB']               en   \n",
       "146   5273      Alfred Hitchcock Apresenta         ['US']               en   \n",
       "147  84200     Liga da Justiça Sem Limites             []               en   \n",
       "148     47                          Chaves         ['MX']               es   \n",
       "149  89456     Genndy Tartakovsky's Primal         ['US']               en   \n",
       "\n",
       "                 NOME ORIGINAL  \\\n",
       "0              Game of Thrones   \n",
       "1                 Breaking Bad   \n",
       "2                      Friends   \n",
       "3              Stranger Things   \n",
       "4                     Sherlock   \n",
       "..                         ...   \n",
       "145                  Endeavour   \n",
       "146  Alfred Hitchcock Presents   \n",
       "147   Justice League Unlimited   \n",
       "148          El Chavo del Ocho   \n",
       "149                     Primal   \n",
       "\n",
       "                                                RESUMO  POPULARIDADE  \\\n",
       "0    Em uma terra onde os verões podem durar vários...       321.874   \n",
       "1    Ao saber que tem câncer, um professor passa a ...       204.841   \n",
       "2    Seis jovens são unidos por laços familiares, r...       139.818   \n",
       "3    Quando um garoto desaparece, a cidade toda par...       196.204   \n",
       "4    Nesta versão moderna dos livros de Sir Arthur ...        63.367   \n",
       "..                                                 ...           ...   \n",
       "145  Endeavour Morse acaba de abandonar a Universid...        24.999   \n",
       "146  Junte-se ao lendário \"Mestre do Suspense\", Alf...        37.184   \n",
       "147  Liga da Justiça Sem Limites é uma série de ani...        13.011   \n",
       "148  Uma comédia que aborda as interações de um gru...        42.135   \n",
       "149  No início da evolução, um homem das cavernas e...        25.038   \n",
       "\n",
       "                               POSTER  VOTO MÉDIO  CONTAGEM DE VOTOS  ANO_x  \\\n",
       "0    /u3bZgnGQ9T01sWNhyveQz0wH0Hl.jpg         8.3              11839   2011   \n",
       "1    /30erzlzIOtOK3k3T3BAl1GiVMP1.jpg         8.7               6122   2008   \n",
       "2    /f496cm9enuEsZkSPzCwnTESEK5s.jpg         8.2               3353   1994   \n",
       "3    /g3nzhHBDTrJ7RWhzozFTYFjvRbd.jpg         8.6               6780   2016   \n",
       "4    /7WTsnHkbA0FaG6R9twfFde0I9hl.jpg         8.4               2626   2010   \n",
       "..                                ...         ...                ...    ...   \n",
       "145  /suX3F5e8XN9emrb52CQSwt2mRwx.jpg         8.0                114   2012   \n",
       "146  /sHzG8lDfn5wKiieBsh0Qg5DXWNQ.jpg         7.9                108   1955   \n",
       "147  /vRRvCUREeqqnp3hHdqep83eQjdP.jpg         8.3                349   2004   \n",
       "148  /8D8rR5UgZlhLZ5k3cnMNTtYA8Wn.jpg         7.7                769   1972   \n",
       "149  /9jIatSC61s5Y3d5Q63yIeZFvP7u.jpg         8.8                350   2019   \n",
       "\n",
       "     NOTA IMDB_x  CONTAGEM DE VOTOS IMDB_x  MELHORES SERIES   ANO_y  \\\n",
       "0            9.2                 1738802.0                1  2011.0   \n",
       "1            9.4                 1430288.0                1  2008.0   \n",
       "2            8.8                  808056.0                1  1994.0   \n",
       "3            8.7                  797234.0                1  2016.0   \n",
       "4            9.0                  794217.0                1  2010.0   \n",
       "..           ...                       ...              ...     ...   \n",
       "145          8.5                   18207.0                1  2012.0   \n",
       "146          8.5                   14664.0                0  1955.0   \n",
       "147          8.7                   10325.0                1  2004.0   \n",
       "148          8.5                    8548.0                0  1972.0   \n",
       "149          8.6                    5629.0                1  2019.0   \n",
       "\n",
       "     NOTA IMDB_y  CONTAGEM DE VOTOS IMDB_y  \n",
       "0            9.2                 1738802.0  \n",
       "1            9.4                 1430288.0  \n",
       "2            8.8                  808056.0  \n",
       "3            8.7                  797234.0  \n",
       "4            9.0                  794217.0  \n",
       "..           ...                       ...  \n",
       "145          8.5                   18207.0  \n",
       "146          8.5                   14664.0  \n",
       "147          8.7                   10325.0  \n",
       "148          8.5                    8548.0  \n",
       "149          8.6                    5629.0  \n",
       "\n",
       "[125 rows x 17 columns]"
      ]
     },
     "execution_count": 54,
     "metadata": {},
     "output_type": "execute_result"
    }
   ],
   "source": [
    "netflix"
   ]
  },
  {
   "cell_type": "code",
   "execution_count": 49,
   "metadata": {
    "ExecuteTime": {
     "end_time": "2020-12-18T06:12:28.049026Z",
     "start_time": "2020-12-18T06:12:28.022044Z"
    }
   },
   "outputs": [],
   "source": [
    "netflix = netflix.merge(teste, on=['NOME ORIGINAL'], how='left').dropna().drop_duplicates()"
   ]
  },
  {
   "cell_type": "code",
   "execution_count": 51,
   "metadata": {
    "ExecuteTime": {
     "end_time": "2020-12-18T06:12:44.132700Z",
     "start_time": "2020-12-18T06:12:44.092724Z"
    }
   },
   "outputs": [
    {
     "data": {
      "text/plain": [
       "<bound method DataFrame.info of                                         NOME_x DATA DE ESTREIA     ID_x  \\\n",
       "0                               Anne with an E      2017-03-19  70785.0   \n",
       "1                                 Rick & Morty      2013-12-02  60625.0   \n",
       "2                          O Gambito da Rainha      2020-10-23  87739.0   \n",
       "3               Breaking Bad: A Química do Mal      2008-01-20   1396.0   \n",
       "4   Peaky Blinders: Sangue, Apostas e Navalhas      2013-09-12  60574.0   \n",
       "5                              Stranger Things      2016-07-15  66732.0   \n",
       "6                      Avatar: A Lenda de Aang      2005-02-21    246.0   \n",
       "7                              BoJack Horseman      2014-08-22  61222.0   \n",
       "8                                         Dark      2017-12-01  70523.0   \n",
       "9                                     Sherlock      2010-07-25  19885.0   \n",
       "10                               Justiça Jovem      2010-11-26  33217.0   \n",
       "11                            Better Call Saul      2015-02-08  60059.0   \n",
       "12                                Black Mirror      2011-12-04  42009.0   \n",
       "13                          Olhos que Condenam      2019-05-31  81355.0   \n",
       "14                                     Friends      1994-09-22   1668.0   \n",
       "15        Jornada nas Estrelas: A Nova Geração      1987-09-28    655.0   \n",
       "16                        Love, Death & Robots      2019-03-15  86831.0   \n",
       "17                                       Fargo      2014-04-15  60622.0   \n",
       "18                Monty Python's Flying Circus      1969-10-05    849.0   \n",
       "19                             Arremesso Final      2020-04-19  79525.0   \n",
       "20                                   The Crown      2016-11-04  65494.0   \n",
       "21                              House of Cards      2013-02-01   1425.0   \n",
       "22                            Hora de Aventura      2010-04-05  15260.0   \n",
       "23               A Maldição da Residência Hill      2018-10-12  72844.0   \n",
       "24                        Arrested Development      2003-11-02   4589.0   \n",
       "25                                   Cobra Kai      2018-05-02  77169.0   \n",
       "26                                      Narcos      2015-08-28  63351.0   \n",
       "27                                      Archer      2009-09-17  10283.0   \n",
       "28                                     Vikings      2013-03-03  44217.0   \n",
       "29                                  Mindhunter      2017-10-13  67744.0   \n",
       "30                                   Spartacus      2010-01-22  46296.0   \n",
       "31                           Making a Murderer      2015-12-18  64439.0   \n",
       "32                                     Atlanta      2016-09-06  65495.0   \n",
       "\n",
       "   PAÍS DE ORIGEM_x LINGUA DE ORIGEM_x                   NOME ORIGINAL  \\\n",
       "0            ['CA']                 en                  Anne with an E   \n",
       "1            ['US']                 en                  Rick and Morty   \n",
       "2            ['US']                 en              The Queen's Gambit   \n",
       "3            ['US']                 en                    Breaking Bad   \n",
       "4            ['GB']                 en                  Peaky Blinders   \n",
       "5            ['US']                 en                 Stranger Things   \n",
       "6            ['US']                 en      Avatar: The Last Airbender   \n",
       "7            ['US']                 en                 BoJack Horseman   \n",
       "8            ['DE']                 de                            Dark   \n",
       "9            ['GB']                 en                        Sherlock   \n",
       "10           ['US']                 en                   Young Justice   \n",
       "11           ['US']                 en                Better Call Saul   \n",
       "12           ['GB']                 en                    Black Mirror   \n",
       "13           ['US']                 en                When They See Us   \n",
       "14           ['US']                 en                         Friends   \n",
       "15           ['US']                 en  Star Trek: The Next Generation   \n",
       "16           ['US']                 en            Love, Death & Robots   \n",
       "17           ['US']                 en                           Fargo   \n",
       "18           ['GB']                 en    Monty Python's Flying Circus   \n",
       "19           ['US']                 en                  The Last Dance   \n",
       "20     ['GB', 'US']                 en                       The Crown   \n",
       "21           ['US']                 en                  House of Cards   \n",
       "22           ['US']                 en                  Adventure Time   \n",
       "23           ['US']                 en      The Haunting of Hill House   \n",
       "24           ['US']                 en            Arrested Development   \n",
       "25           ['US']                 en                       Cobra Kai   \n",
       "26           ['US']                 en                          Narcos   \n",
       "27           ['US']                 en                          Archer   \n",
       "28           ['CA']                 en                         Vikings   \n",
       "29           ['US']                 en                      Mindhunter   \n",
       "30           ['US']                 en                       Spartacus   \n",
       "31           ['US']                 en               Making a Murderer   \n",
       "32           ['US']                 en                         Atlanta   \n",
       "\n",
       "                                             RESUMO_x  POPULARIDADE_x  \\\n",
       "0   O mundo de Green Gables que Anne tanto adora s...         111.048   \n",
       "1   Rick é um velho mentalmente desequilibrado, ma...         227.251   \n",
       "2   Durante a Guerra Fria, em um orfanato do Kentu...         449.859   \n",
       "3   Ao saber que tem câncer, um professor passa a ...         203.975   \n",
       "4   Thomas Shelby e seus irmãos retornam a Birming...         118.224   \n",
       "5   Quando um garoto desaparece, a cidade toda par...         210.134   \n",
       "6   Numa era perdida, a humanidade dividiu-se em q...          46.400   \n",
       "7   Conheça o cavalo mais amado da TV dos anos 90....          66.137   \n",
       "8   Quatro famílias iniciam uma desesperada busca ...         175.765   \n",
       "9   Nesta versão moderna dos livros de Sir Arthur ...          71.707   \n",
       "10  Justiça Jovem centra-se na jornada de um grupo...          35.092   \n",
       "11  Antes de se transformar no infame Saul Goodman...          65.020   \n",
       "12  Esta série antológica de ficção científica exp...          79.998   \n",
       "13  Cinco adolescentes do Harlem vivem um pesadelo...          18.120   \n",
       "14  Seis jovens são unidos por laços familiares, r...         117.478   \n",
       "15  Um século após a missão de cinco anos do capit...          77.770   \n",
       "16  Criaturas aterrorizantes, surpresas bizarras e...          39.664   \n",
       "17  Billy Bob Thornton (Na Corda Bamba, Papai Noel...          63.954   \n",
       "18  Monty Python's Flying Circus foi uma série par...          20.153   \n",
       "19  Esse relato definitivo sobre a carreira de Mic...          26.125   \n",
       "20  Esta série dramática segue a política, rivalid...         210.559   \n",
       "21  Um político inescrupuloso não mede esforços pa...          60.819   \n",
       "22  Com 12 anos de idade, Finn combate o mal na te...         148.386   \n",
       "23  Entre o passado e o presente, uma família divi...          41.257   \n",
       "24  Essa é a história de uma família rica que perd...          28.523   \n",
       "25  Esta sequência de Karate Kid pega 30 anos depo...         230.366   \n",
       "26  A notória série sobre o tráfico é baseada na h...          51.823   \n",
       "27  Na ISIS, uma agência de espionagem internacion...          39.767   \n",
       "28  Ragnar Lothbrok, um jovem que se considera des...         254.826   \n",
       "29  Um agente da Unidade de Crimes em Série do FBI...          46.726   \n",
       "30  Traído pelos romanos, forçado à escravidão e r...          97.161   \n",
       "31  Cada vez mais investindo nas suas produções do...           8.915   \n",
       "32  Earnest Marks, mais conhecido como Earn, um jo...          24.832   \n",
       "\n",
       "                            POSTER_x  VOTO MÉDIO_x  ...  LINGUA DE ORIGEM_y  \\\n",
       "0   /xWdSSB1La6FcXZUuuwvcqvB6Kdf.jpg           8.8  ...                  en   \n",
       "1   /8kOWDBK6XlPUzckuHDo3wwVRFwt.jpg           8.7  ...                  en   \n",
       "2   /ubWpLTkwcms5PfZJMFZkNXVYXqJ.jpg           8.7  ...                  en   \n",
       "3   /30erzlzIOtOK3k3T3BAl1GiVMP1.jpg           8.7  ...                  en   \n",
       "4   /i0uajcHH9yogXMfDHpOXexIukG9.jpg           8.6  ...                  en   \n",
       "5   /g3nzhHBDTrJ7RWhzozFTYFjvRbd.jpg           8.6  ...                  en   \n",
       "6   /r25xIY4gEhK6pHr6JUF51Z6UBlr.jpg           8.6  ...                  en   \n",
       "7    /pB9L0jAnEQLMKgexqCEocEW8TA.jpg           8.5  ...                  en   \n",
       "8   /5LoHuHWA4H8jElFlZDvsmU2n63b.jpg           8.4  ...                  de   \n",
       "9   /7WTsnHkbA0FaG6R9twfFde0I9hl.jpg           8.4  ...                  en   \n",
       "10  /fn2wMnrPWIjDMnxIf0H89ZtDehK.jpg           8.4  ...                  en   \n",
       "11  /4g3UBFRKrA3Iq3wilqHhAIpQdTN.jpg           8.3  ...                  en   \n",
       "12  /dw7jYk7EdrkrHozG7F1Yg2eFJTm.jpg           8.3  ...                  en   \n",
       "13  /nkJtmjDsRdIzRKNctsMX33W55uJ.jpg           8.2  ...                  en   \n",
       "14  /f496cm9enuEsZkSPzCwnTESEK5s.jpg           8.2  ...                  en   \n",
       "15  /72sME47Jn3cjttpbPn3DU0ci3O1.jpg           8.2  ...                  en   \n",
       "16  /rlrRI2b6RvM9I9xOBTKqcTaehkE.jpg           8.2  ...                  en   \n",
       "17  /auq0zBbKtkVhqvjNIFKtTspnMRw.jpg           8.2  ...                  en   \n",
       "18  /jugMPE9rTDySDyirqeDssPJLNQy.jpg           8.2  ...                  en   \n",
       "19  /3a50zkySihNjgRfhLl2qIdhie7p.jpg           8.2  ...                  en   \n",
       "20  /uT4HL776Up8LgjqfmmGtGKSDgvT.jpg           8.1  ...                  en   \n",
       "21  /hKWxWjFwnMvkWQawbhvC0Y7ygQ8.jpg           8.1  ...                  en   \n",
       "22  /rk9hP9oWxdz70HjH2khCl3wSYu8.jpg           8.1  ...                  en   \n",
       "23  /mQQGdDgn4WpUL9PXssHecWkjfi1.jpg           8.1  ...                  en   \n",
       "24  /qMzwO952hMWQSCfHkp7IL20s4K7.jpg           8.1  ...                  en   \n",
       "25  /eTMMU2rKpZRbo9ERytyhwatwAjz.jpg           8.0  ...                  en   \n",
       "26  /iTxNuSp5JEKLf4rLVz5aFulJD3k.jpg           8.0  ...                  en   \n",
       "27  /oSn0NGPsVeT7D6KnzPAcQemg9rJ.jpg           7.9  ...                  en   \n",
       "28  /oktTNFM8PzdseiK1X0E0XhB6LvP.jpg           7.9  ...                  en   \n",
       "29  /fbKE87mojpIETWepSbD5Qt741fp.jpg           7.9  ...                  en   \n",
       "30  /kAUI0oOWZbGAQMmv7WM6scvoE34.jpg           7.9  ...                  en   \n",
       "31  /mCkAZqTIZ4udXFWUcU93cbWS71k.jpg           7.8  ...                  en   \n",
       "32  /lXMmcrGK5QL7Xc1SjmzutIQoA1I.jpg           7.8  ...                  en   \n",
       "\n",
       "                                             RESUMO_y  POPULARIDADE_y  \\\n",
       "0   O mundo de Green Gables que Anne tanto adora s...         117.047   \n",
       "1   Rick é um velho mentalmente desequilibrado, ma...         198.733   \n",
       "2   Durante a Guerra Fria, em um orfanato do Kentu...         403.729   \n",
       "3   Ao saber que tem câncer, um professor passa a ...         204.841   \n",
       "4   Thomas Shelby e seus irmãos retornam a Birming...         119.771   \n",
       "5   Quando um garoto desaparece, a cidade toda par...         196.204   \n",
       "6   Numa era perdida, a humanidade dividiu-se em q...          49.731   \n",
       "7   Conheça o cavalo mais amado da TV dos anos 90....          73.214   \n",
       "8   Quatro famílias iniciam uma desesperada busca ...         169.822   \n",
       "9   Nesta versão moderna dos livros de Sir Arthur ...          63.367   \n",
       "10  Justiça Jovem centra-se na jornada de um grupo...          45.789   \n",
       "11  Antes de se transformar no infame Saul Goodman...          74.264   \n",
       "12  Esta série antológica de ficção científica exp...          69.182   \n",
       "13  Cinco adolescentes do Harlem vivem um pesadelo...          22.449   \n",
       "14  Seis jovens são unidos por laços familiares, r...         139.818   \n",
       "15  Um século após a missão de cinco anos do capit...          76.616   \n",
       "16  Criaturas aterrorizantes, surpresas bizarras e...          39.978   \n",
       "17  Billy Bob Thornton (Na Corda Bamba, Papai Noel...          61.177   \n",
       "18  Monty Python's Flying Circus foi uma série par...          15.773   \n",
       "19  Esse relato definitivo sobre a carreira de Mic...          21.695   \n",
       "20  Esta série dramática segue a política, rivalid...         191.353   \n",
       "21  Um político inescrupuloso não mede esforços pa...          51.996   \n",
       "22  Com 12 anos de idade, Finn combate o mal na te...         145.422   \n",
       "23  Entre o passado e o presente, uma família divi...          38.961   \n",
       "24  Essa é a história de uma família rica que perd...          29.796   \n",
       "25  Esta sequência de Karate Kid pega 30 anos depo...         238.882   \n",
       "26  A notória série sobre o tráfico é baseada na h...          53.437   \n",
       "27  Na ISIS, uma agência de espionagem internacion...          53.420   \n",
       "28  Ragnar Lothbrok, um jovem que se considera des...         241.422   \n",
       "29  Um agente da Unidade de Crimes em Série do FBI...          36.046   \n",
       "30  Traído pelos romanos, forçado à escravidão e r...          99.279   \n",
       "31  Cada vez mais investindo nas suas produções do...           6.859   \n",
       "32  Earnest Marks, mais conhecido como Earn, um jo...          22.492   \n",
       "\n",
       "                            POSTER_y  VOTO MÉDIO_y CONTAGEM DE VOTOS_y ANO_y  \\\n",
       "0   /xWdSSB1La6FcXZUuuwvcqvB6Kdf.jpg           8.8                2784  2017   \n",
       "1   /8kOWDBK6XlPUzckuHDo3wwVRFwt.jpg           8.7                3704  2013   \n",
       "2   /ubWpLTkwcms5PfZJMFZkNXVYXqJ.jpg           8.7                 885  2020   \n",
       "3   /30erzlzIOtOK3k3T3BAl1GiVMP1.jpg           8.7                6122  2008   \n",
       "4   /i0uajcHH9yogXMfDHpOXexIukG9.jpg           8.6                1693  2013   \n",
       "5   /g3nzhHBDTrJ7RWhzozFTYFjvRbd.jpg           8.6                6780  2016   \n",
       "6   /r25xIY4gEhK6pHr6JUF51Z6UBlr.jpg           8.6                1842  2005   \n",
       "7    /pB9L0jAnEQLMKgexqCEocEW8TA.jpg           8.5                 930  2014   \n",
       "8   /5LoHuHWA4H8jElFlZDvsmU2n63b.jpg           8.4                3792  2017   \n",
       "9   /7WTsnHkbA0FaG6R9twfFde0I9hl.jpg           8.4                2626  2010   \n",
       "10  /fn2wMnrPWIjDMnxIf0H89ZtDehK.jpg           8.4                 472  2010   \n",
       "11  /4g3UBFRKrA3Iq3wilqHhAIpQdTN.jpg           8.3                1922  2015   \n",
       "12  /dw7jYk7EdrkrHozG7F1Yg2eFJTm.jpg           8.3                2267  2011   \n",
       "13  /nkJtmjDsRdIzRKNctsMX33W55uJ.jpg           8.3                 313  2019   \n",
       "14  /f496cm9enuEsZkSPzCwnTESEK5s.jpg           8.2                3353  1994   \n",
       "15  /72sME47Jn3cjttpbPn3DU0ci3O1.jpg           8.2                 770  1987   \n",
       "16  /rlrRI2b6RvM9I9xOBTKqcTaehkE.jpg           8.2                 757  2019   \n",
       "17  /auq0zBbKtkVhqvjNIFKtTspnMRw.jpg           8.2                1407  2014   \n",
       "18  /jugMPE9rTDySDyirqeDssPJLNQy.jpg           8.2                 341  1969   \n",
       "19  /3a50zkySihNjgRfhLl2qIdhie7p.jpg           8.2                 621  2020   \n",
       "20  /uT4HL776Up8LgjqfmmGtGKSDgvT.jpg           8.1                 777  2016   \n",
       "21  /hKWxWjFwnMvkWQawbhvC0Y7ygQ8.jpg           8.1                1596  2013   \n",
       "22  /rk9hP9oWxdz70HjH2khCl3wSYu8.jpg           8.1                1115  2010   \n",
       "23  /mQQGdDgn4WpUL9PXssHecWkjfi1.jpg           8.1                 948  2018   \n",
       "24  /qMzwO952hMWQSCfHkp7IL20s4K7.jpg           8.1                 698  2003   \n",
       "25  /eTMMU2rKpZRbo9ERytyhwatwAjz.jpg           8.0                1188  2018   \n",
       "26  /iTxNuSp5JEKLf4rLVz5aFulJD3k.jpg           8.0                1416  2015   \n",
       "27  /oSn0NGPsVeT7D6KnzPAcQemg9rJ.jpg           7.9                 662  2009   \n",
       "28  /oktTNFM8PzdseiK1X0E0XhB6LvP.jpg           7.9                3510  2013   \n",
       "29  /fbKE87mojpIETWepSbD5Qt741fp.jpg           7.9                1016  2017   \n",
       "30  /kAUI0oOWZbGAQMmv7WM6scvoE34.jpg           7.9                1186  2010   \n",
       "31  /mCkAZqTIZ4udXFWUcU93cbWS71k.jpg           7.8                 276  2015   \n",
       "32  /lXMmcrGK5QL7Xc1SjmzutIQoA1I.jpg           7.8                 284  2016   \n",
       "\n",
       "   NOTA IMDB_y CONTAGEM DE VOTOS IMDB_y  MELHORES SERIES  \n",
       "0          8.6                  34913.0                1  \n",
       "1          9.2                 365508.0                1  \n",
       "2          8.7                 162797.0                1  \n",
       "3          9.4                1430288.0                1  \n",
       "4          8.7                 329685.0                1  \n",
       "5          8.7                 797234.0                1  \n",
       "6          9.2                 240755.0                1  \n",
       "7          8.7                 108623.0                1  \n",
       "8          8.7                 270909.0                1  \n",
       "9          9.0                 794217.0                1  \n",
       "10         8.6                  31187.0                1  \n",
       "11         8.7                 315042.0                1  \n",
       "12         8.8                 432049.0                1  \n",
       "13         8.9                  87851.0                1  \n",
       "14         8.8                 808056.0                1  \n",
       "15         8.6                  99539.0                1  \n",
       "16         8.5                  93326.0                1  \n",
       "17         8.9                 320369.0                1  \n",
       "18         8.8                  66689.0                1  \n",
       "19         9.1                  74039.0                1  \n",
       "20         8.6                 134333.0                1  \n",
       "21         8.7                 461998.0                1  \n",
       "22         8.5                  75469.0                1  \n",
       "23         8.6                 176562.0                1  \n",
       "24         8.7                 274268.0                1  \n",
       "25         8.6                  82090.0                1  \n",
       "26         8.7                 349469.0                1  \n",
       "27         8.6                 136128.0                0  \n",
       "28         8.4                 415719.0                0  \n",
       "29         8.6                 208883.0                0  \n",
       "30         8.5                 221021.0                0  \n",
       "31         8.5                  85679.0                0  \n",
       "32         8.6                  50450.0                0  \n",
       "\n",
       "[33 rows x 27 columns]>"
      ]
     },
     "execution_count": 51,
     "metadata": {},
     "output_type": "execute_result"
    }
   ],
   "source": [
    "netflix.info"
   ]
  },
  {
   "cell_type": "code",
   "execution_count": null,
   "metadata": {},
   "outputs": [],
   "source": []
  }
 ],
 "metadata": {
  "hide_input": false,
  "kernelspec": {
   "display_name": "Python 3",
   "language": "python",
   "name": "python3"
  },
  "language_info": {
   "codemirror_mode": {
    "name": "ipython",
    "version": 3
   },
   "file_extension": ".py",
   "mimetype": "text/x-python",
   "name": "python",
   "nbconvert_exporter": "python",
   "pygments_lexer": "ipython3",
   "version": "3.8.5"
  },
  "toc": {
   "base_numbering": 1,
   "nav_menu": {},
   "number_sections": true,
   "sideBar": true,
   "skip_h1_title": false,
   "title_cell": "Table of Contents",
   "title_sidebar": "Contents",
   "toc_cell": false,
   "toc_position": {},
   "toc_section_display": true,
   "toc_window_display": true
  },
  "varInspector": {
   "cols": {
    "lenName": 16,
    "lenType": 16,
    "lenVar": 40
   },
   "kernels_config": {
    "python": {
     "delete_cmd_postfix": "",
     "delete_cmd_prefix": "del ",
     "library": "var_list.py",
     "varRefreshCmd": "print(var_dic_list())"
    },
    "r": {
     "delete_cmd_postfix": ") ",
     "delete_cmd_prefix": "rm(",
     "library": "var_list.r",
     "varRefreshCmd": "cat(var_dic_list()) "
    }
   },
   "types_to_exclude": [
    "module",
    "function",
    "builtin_function_or_method",
    "instance",
    "_Feature"
   ],
   "window_display": false
  }
 },
 "nbformat": 4,
 "nbformat_minor": 4
}
